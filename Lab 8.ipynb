{
 "cells": [
  {
   "cell_type": "markdown",
   "metadata": {},
   "source": [
    "# Lab 8"
   ]
  },
  {
   "cell_type": "markdown",
   "metadata": {},
   "source": [
    "## Job 1\n",
    "\n",
    "Intelligence Analyst SME 1\n",
    "\n",
    "Perspecta\n",
    "\n",
    "[link](https://www.indeed.com/pagead/clk?mo=r&ad=-6NYlbfkN0CXELgAtUQhYXJPuOCgdO1_GLSHWM59IvmfGFTB-XV5Eaok2F7KN95EU6oer93BS4kWYb1nTSTmLix3dnqKY-hg1KzM6-lf8N36vx-XYxCtvimQ4K_rAWx_jhremT01cRlWR2pFFUy809NAqtsgSgQHwQ0cbkeVd-Bs0-UR4o-EsVDe15NSw2KVBEZf2hjrgAdgbMaIp-GIDGo0JhcUKHDhbIQ3-n3xP4K4U00lEzW4wxXoEWZs0PtkMVJiE1timP2pZDw6xiEDyuj1pm7ozxMK1MpS53AfX0vqqUcmpb1cOpWvjVPENirHETxc-26w8YGWr_Z4PpaZLlo8qxMqjMBaENKf_BbA8BVTTaYHMLDMVyetut9U7-py_uL39pZSHyP-A5OQacEOVdLiKCQt395Y3qAThKo0qvQvKmyRxoGzVfe-twpyYbV0x_yd-l3JN9Ki1QhMARnW27iZBQDSb6uELn_tfCxa_hZ-N2rDlP0Ak6tX45lRYjjKF-CoA-K3KypW4KFvFbBZwk-qpT9W_Bj0qtF4AEkY7pH5yqSrgU5OZG6VhjZoFqd-F8X4xQtQvDUoDP6tSZd8JQ==&vjs=3&p=1&sk=&fvj=0&tk=1d6gom6tm27fi002&jsa=2230&sal=0&sal=)​"
   ]
  },
  {
   "cell_type": "markdown",
   "metadata": {},
   "source": [
    "## Job 2\n",
    "\n",
    "Intelligence Analyst\n",
    "\n",
    "General Dynamics Information Technology\n",
    "\n",
    "[link](https://www.indeed.com/viewjob?jk=2220af4ba7213b98&from=serp&vjs=)"
   ]
  },
  {
   "cell_type": "markdown",
   "metadata": {},
   "source": [
    "## Q1"
   ]
  },
  {
   "cell_type": "code",
   "execution_count": 1,
   "metadata": {},
   "outputs": [],
   "source": [
    "import xlwt        \n",
    "from collections import Counter        \n",
    "from nltk.corpus import stopwords\n",
    "stop = set(stopwords.words('english'))\n",
    "  \n",
    "book = xlwt.Workbook() # create a new excel file\n",
    "sheet_test = book.add_sheet('word_count') # add a new sheet\n",
    "i = 0\n",
    "sheet_test.write(i,0,'word') # write the header of the first column\n",
    "sheet_test.write(i,1,'count') # write the header of the second column\n",
    "sheet_test.write(i,2,'ratio') # write the header of the third column\n",
    "    \n",
    "with open('job1.txt','r',encoding='utf-8', errors = 'ignore') as text_word: # define the location of your txt file\n",
    "     \n",
    "    # convert all the word into lower cases\n",
    "    # filter out stop words\n",
    "    word_list = [i for i in text_word.read().lower().split() if i not in stop]\n",
    "    word_total = word_list.__len__()\n",
    "     \n",
    "    count_result =  Counter(word_list)\n",
    "    for result in count_result.most_common(10):\n",
    "        i = i+1 \n",
    "        sheet_test.write(i,0,result[0])\n",
    "        sheet_test.write(i,1,result[1])\n",
    "        sheet_test.write(i,2,(result[1]/word_total))\n",
    "    \n",
    "book.save('job1.xls')# define the location of your excel file"
   ]
  },
  {
   "cell_type": "code",
   "execution_count": 2,
   "metadata": {},
   "outputs": [],
   "source": [
    "import xlwt        \n",
    "from collections import Counter        \n",
    "from nltk.corpus import stopwords\n",
    "stop = set(stopwords.words('english'))\n",
    "  \n",
    "book = xlwt.Workbook() # create a new excel file\n",
    "sheet_test = book.add_sheet('word_count') # add a new sheet\n",
    "i = 0\n",
    "sheet_test.write(i,0,'word') # write the header of the first column\n",
    "sheet_test.write(i,1,'count') # write the header of the second column\n",
    "sheet_test.write(i,2,'ratio') # write the header of the third column\n",
    "    \n",
    "with open('job2.txt','r',encoding='utf-8', errors = 'ignore') as text_word: # define the location of your txt file\n",
    "     \n",
    "    # convert all the word into lower cases\n",
    "    # filter out stop words\n",
    "    word_list = [i for i in text_word.read().lower().split() if i not in stop]\n",
    "    word_total = word_list.__len__()\n",
    "     \n",
    "    count_result =  Counter(word_list)\n",
    "    for result in count_result.most_common(10):\n",
    "        i = i+1 \n",
    "        sheet_test.write(i,0,result[0])\n",
    "        sheet_test.write(i,1,result[1])\n",
    "        sheet_test.write(i,2,(result[1]/word_total))\n",
    "    \n",
    "book.save('job2.xls')# define the location of your excel file"
   ]
  },
  {
   "cell_type": "markdown",
   "metadata": {},
   "source": [
    "## Q2"
   ]
  },
  {
   "cell_type": "markdown",
   "metadata": {},
   "source": [
    "<img src='job1cloud.png'>\n",
    "<img src='job2cloud.png'>"
   ]
  },
  {
   "cell_type": "markdown",
   "metadata": {},
   "source": [
    "## Q3"
   ]
  },
  {
   "cell_type": "code",
   "execution_count": 6,
   "metadata": {},
   "outputs": [
    {
     "name": "stdout",
     "output_type": "stream",
     "text": [
      "{'ready', 'research,', 'studies', 'challenges.', 'high-caliber', 'solving', 'Quickly', 'day', 'work.', 'Advanced', 'range', 'charts,', 'assigned', 'integrators', 'salaries', 'clock', '(7)', 'boundaries', 'tables,', 'changing', 'seven', 'overall', 'waysnot', 'matter.', 'Expert', 'protected', 'application', 'relationships', 'capabilities', 'study', 'guide', 'further.', '76', 'Shall', 'includes', 'enable', 'formal', 'programs,', 'wide', 'opportunity', 'team.', 'may', 'clear,', 'set', 'Perspecta', 'Perspecta,', 'Our', 'To', 'state', 'customers', 'are', 'orally', 'effectiveness', 'coverage', 'many', 'defense,', 'projects', 'solutions.', 'above', 'difficult', 'laws,', 'packages,', 'principles,', 'directives,', 'complete,', 'together', 'developers,', 'practices,', 'approaches,', '1', 'continually', 'founded', 'management', 'following:', 'May', 'program', 'most', 'Were', 'recommendations', 'Minimum', 'adapt,', 'welcome', 'oversee', 'talented', 'communicate', 'order', 'tasks', 'impact', 'investigators,', 'have', 'health', 'Ideal', 'works', 'serve', 'organize,', 'effect', 'qualitative', 'our', 'procedures', 'administrative', 'findings', 'systems,', 'Provide', 'Responsibilities', 'Subject', 'duties', 'is', 'well-documented', 'stop', 'care,', 'effectively,', 'take', 'distributed.', 'that', '22181', 'mastery', 'together.', 'tactfully', 'competitive', 'tirelessly', 'civilian,', 'Lets', 'key', 'hundreds', 'team', 'we', 'processes,', 'extremely', 'push', 'accept', 'identify', 'theories,', 'SME', 'develop', 'never', 'thousands', 'robust', 'orders,', 'plan,', 'meaningful', 'responsibilities', 'variety', 'regulations,', 'concise', 'markets.', 'Candidate', 'benefits', 'people', 'innovative', 'customers.', 'strongstands', 'minimum', 'employees', 'Matter', 'analysts,', 'quantitative', 'functions,', 'make', 'Perspectas', 'direct', 'delicate', 'nature;', 'knowledge', 'Mastery', 'create', 'conclusions', 'projects,', 'advise', 'We', 'also', 'graphs', 'U.S.', 'through', 'presentations', 'Overview', 'conduct', 'mission', 'precedents', 'Perform', 'reports,', 'partner', 'where', 'functions', 'methodology,', 'look', 'concepts', 'briefings,', 'logical,', 'clearly', 'at', 'shall', 'Employer', 'structure,', 'design', 'nations', 'Comprehensive', 'single', 'informal', 'AA/EEO', 'you', 'include,', 'agencies', 'promise:', 'department', 'techniques', 'negotiate', 'determine', 'survey', 'possess:', 'correspondence,', 'respond,', 'assessment', 'Minorities/Women/Veterans/Disabled', 'jobs', 'ahead', 'improvement', 'methods', 'workforce14,000', 'around', 'landscape', 'government', 'on', 'Every', 'architects', 'persuasively', 'making', 'Vienna,', 'programs', 'can', 'categories', 'broad', 'writing,', 'go', 'relative', 'bound', 'preparing', 'ways', 'complex', 'an', 'policies,', 'executive', 'issues', 'rewarded', 'required', 'implement', 'engineers,', 'company', 'listed', 'ourselvesto', 'only', 'important'}\n",
      "{'2+', 'National', 'require', 'determined', 'Paralegal', 'legal', 'including,', 'Office', 'independently', 'performing', '6,510', 'trial', 'Commissions', 'preparation,', 'research', 'Exceptional', 'DESIRED', 'security', 'General', 'redactions,', 'demanding', 'discovery', 'interpersonal', 'Administration', 'responsible', 'equivalent', 'crafting', 'prosecution', 'preparation', 'Dynamics', 'Commission', 'system', 'written', 'discovery-related', 'strong', 'directed', 'Technology', 'intelligence', 'its', 'Information', 'missions', 'Legal', 'providing', 'environment', 'enforcement,', 'to:', 'well', 'resourcing,', '(b)', 'pre-trial', 'searches', 'law', 'Top', 'Knowledge', 'Intelligence,', 'to,', 'refining,', '(or', 'presentation', 'applying', 'convened', 'supporting', 'REQUIRED', 'international', 'Studies,', 'pretrial', 'Justice,', 'fast-paced', \"organization's\", '(c)', 'aspects', 'clearance', 'adequate', 'daily', 'under', 'counsel', 'conducting', 'documents', 'requirements', 'attention', 'eligibility', 'Criminal', \"Bachelor's\", 'McLean,', '(a)', '0-25%', 'Chief', 'OCP', 'necessary,', 'managing', 'combination)', 'Act', 'oral),', 'Secret', 'international.', 'Sensitive', 'teams;', '(e)', 'Security,', 'task', 'Compartmented', 'process', 'assisting', 'retrieving', 'Masters', 'specific', '(e.g.,', 'WITH', 'substitutes;', 'travel,', 'Travel', 'discovery,', '(OMC)', 'products;', 'Studies)', 'summaries', 'existing', 'requests,', 'excellent', 'identifying,', 'substitutions;', 'Military', '2009.', 'response', '(OCP)', 'executing', 'OCP.', 'Prosecutor,', 'discipline', 'creation', 'progressive', 'communication', 'Prosecutor', 'multiple,', '(both', 'skills', 'criminal', 'would', 'Active', '(SCI)', 'Requirements:', 'AND', 'detail,', '0+', 'defense', 'products,', 'litigation', 'all', 'Analysts', 'task-oriented', 'occasional', '(d)', 'simultaneous', 'groups'}\n"
     ]
    }
   ],
   "source": [
    "with open ('job1.txt','r',encoding='utf-8',errors = 'ignore') as job1:\n",
    "    with open ('job2.txt','r',encoding='utf-8',errors = 'ignore') as job2:\n",
    "        job1_str =job1.read()\n",
    "        job2_str =job2.read()\n",
    "        \n",
    "        job1_set = set(job1_str.split())\n",
    "        job2_set = set(job2_str.split())\n",
    "        \n",
    "        print(job1_set.difference(job2_set))\n",
    "        print(job2_set.difference(job1_set))"
   ]
  },
  {
   "cell_type": "markdown",
   "metadata": {},
   "source": [
    "## Q4"
   ]
  },
  {
   "cell_type": "code",
   "execution_count": 11,
   "metadata": {},
   "outputs": [
    {
     "name": "stdout",
     "output_type": "stream",
     "text": [
      "3\n"
     ]
    }
   ],
   "source": [
    "from fuzzywuzzy import fuzz\n",
    "with open ('job1.txt','r',encoding='utf-8',errors = 'ignore') as job1:\n",
    "    with open ('job2.txt','r',encoding='utf-8',errors = 'ignore') as job2:\n",
    "        job1_str =job1.read()\n",
    "        job2_str =job2.read()\n",
    "        print (fuzz.token_sort_ratio(job1_str,job2_str))"
   ]
  }
 ],
 "metadata": {
  "kernelspec": {
   "display_name": "Python 3",
   "language": "python",
   "name": "python3"
  },
  "language_info": {
   "codemirror_mode": {
    "name": "ipython",
    "version": 3
   },
   "file_extension": ".py",
   "mimetype": "text/x-python",
   "name": "python",
   "nbconvert_exporter": "python",
   "pygments_lexer": "ipython3",
   "version": "3.6.5"
  }
 },
 "nbformat": 4,
 "nbformat_minor": 2
}
