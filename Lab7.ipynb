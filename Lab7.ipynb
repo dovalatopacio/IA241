{
 "cells": [
  {
   "cell_type": "markdown",
   "metadata": {},
   "source": [
    "# Lab 7"
   ]
  },
  {
   "cell_type": "markdown",
   "metadata": {},
   "source": [
    "## Q1"
   ]
  },
  {
   "cell_type": "markdown",
   "metadata": {},
   "source": [
    "Company: Leidos\n",
    "Description: jobposting\n",
    "[job website](https://careers.leidos.com/jobs/3674591-intelligence-analyst?tm_job=R-00007987&tm_event=view&tm_company=2502&bid=326)"
   ]
  },
  {
   "cell_type": "code",
   "execution_count": 3,
   "metadata": {
    "scrolled": false
   },
   "outputs": [
    {
     "name": "stdout",
     "output_type": "stream",
     "text": [
      "Job Description:\n",
      "\n",
      "The Defense Group at Leidos currently has an opening for an Entry Level Intelligence Analyst with Arabic language skills to work in our Reston, VA office.\n",
      "\n",
      "Primary Responsibilities\n",
      "\n",
      "Conduct internet research, mostly on foreign language websites\n",
      "\n",
      "Access, harness, and leverage big data, multimedia, and social media as data sources for analysis\n",
      "\n",
      "Analyze data and synthesize findings\n",
      "\n",
      "Write open source intelligence (OSINT) reports in response to customer-generated Requests for Information (RFIs)\n",
      "\n",
      "Basic Qualifications\n",
      "\n",
      "Must be a U.S. citizen\n",
      "\n",
      "0-2 years of Professional Experience\n",
      "\n",
      "Must have a Bachelor's degree from an accredited college\n",
      "\n",
      "Must be proficient in Arabic language\n",
      "\n",
      "Must have native fluency in English and ability to write clear and concise reports in English\n",
      "\n",
      "Must have strong analytical ability, critical thinking skills, and attention to detail\n",
      "\n",
      "Must have experience using Microsoft Office tools including Word, Excel, and PowerPoint\n",
      "\n",
      "Preferred Qualifications\n",
      "Experience writing scripts using Python computer code\n",
      "Experience using geospatial information systems such as QGIS or ArcGIS\n",
      "12 days ago\n"
     ]
    }
   ],
   "source": [
    "job_listing = open(\"joblisting.txt\",'r')\n",
    "\n",
    "print(job_listing.read())\n",
    "job_listing.close()"
   ]
  },
  {
   "cell_type": "markdown",
   "metadata": {},
   "source": [
    "## Q2"
   ]
  },
  {
   "cell_type": "code",
   "execution_count": 6,
   "metadata": {},
   "outputs": [
    {
     "name": "stdout",
     "output_type": "stream",
     "text": [
      "and 7\n",
      "Must 6\n",
      "in 5\n",
      "to 4\n",
      "have 4\n",
      "an 3\n",
      "for 3\n",
      "language 3\n",
      "Experience 3\n",
      "using 3\n",
      "Arabic 2\n",
      "as 2\n",
      "data 2\n",
      "reports 2\n",
      "Qualifications 2\n",
      "be 2\n",
      "a 2\n",
      "English 2\n",
      "Job 1\n",
      "Description: 1\n"
     ]
    }
   ],
   "source": [
    "from collections import Counter\n",
    "with open ('joblisting.txt','r') as job_listing:\n",
    "    job_listing_list = job_listing.read().split()\n",
    "    \n",
    "    count_result= Counter(job_listing_list)\n",
    "    \n",
    "    for word, count in count_result.most_common(20):\n",
    "        print(word,count)"
   ]
  },
  {
   "cell_type": "markdown",
   "metadata": {},
   "source": [
    "## Q3"
   ]
  },
  {
   "cell_type": "code",
   "execution_count": 10,
   "metadata": {},
   "outputs": [],
   "source": [
    "import xlwt\n",
    "from collections import Counter\n",
    "book = xlwt.Workbook()\n",
    "sheet = book.add_sheet('word_count')\n",
    "i = 0\n",
    "sheet.write(0,0,'word')\n",
    "sheet.write(0,1,'count')\n",
    "with open ('joblisting.txt','r') as job_listing:\n",
    "    job_listing_list = job_listing.read().split()\n",
    "    count_result = Counter(job_listing_list)\n",
    "    for word, count in count_result.most_common(20):\n",
    "        i = i+1\n",
    "        if i> 0:\n",
    "            sheet.write(i,0,word)\n",
    "            sheet.write(i,1,count)\n",
    "        \n",
    "        \n",
    "book.save('job_word_count.xls')"
   ]
  },
  {
   "cell_type": "markdown",
   "metadata": {},
   "source": [
    "## Q4"
   ]
  },
  {
   "cell_type": "code",
   "execution_count": 16,
   "metadata": {},
   "outputs": [
    {
     "name": "stdout",
     "output_type": "stream",
     "text": [
      "21\n",
      "word count\n",
      "and 7.0\n",
      "Must 6.0\n",
      "in 5.0\n",
      "to 4.0\n",
      "have 4.0\n",
      "an 3.0\n",
      "for 3.0\n",
      "language 3.0\n",
      "Experience 3.0\n",
      "using 3.0\n",
      "Arabic 2.0\n",
      "as 2.0\n",
      "data 2.0\n",
      "reports 2.0\n",
      "Qualifications 2.0\n",
      "be 2.0\n",
      "a 2.0\n",
      "English 2.0\n",
      "Job 1.0\n"
     ]
    }
   ],
   "source": [
    "import xlrd\n",
    "book = xlrd.open_workbook('job_word_count.xls')\n",
    "sheet = book.sheet_by_name(\"word_count\")\n",
    "print(sheet.nrows) \n",
    "\n",
    "for i in range(20):\n",
    "    row = sheet.row_values(i)\n",
    "    word,count=row\n",
    "    print (word,count)"
   ]
  },
  {
   "cell_type": "markdown",
   "metadata": {},
   "source": [
    "## Q5"
   ]
  },
  {
   "cell_type": "markdown",
   "metadata": {},
   "source": [
    "<img src = 'word cloud.png'>"
   ]
  }
 ],
 "metadata": {
  "kernelspec": {
   "display_name": "Python 3",
   "language": "python",
   "name": "python3"
  },
  "language_info": {
   "codemirror_mode": {
    "name": "ipython",
    "version": 3
   },
   "file_extension": ".py",
   "mimetype": "text/x-python",
   "name": "python",
   "nbconvert_exporter": "python",
   "pygments_lexer": "ipython3",
   "version": "3.6.5"
  }
 },
 "nbformat": 4,
 "nbformat_minor": 2
}
