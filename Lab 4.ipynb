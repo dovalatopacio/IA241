{
 "cells": [
  {
   "cell_type": "markdown",
   "metadata": {},
   "source": [
    "# Lab 4"
   ]
  },
  {
   "cell_type": "code",
   "execution_count": 1,
   "metadata": {},
   "outputs": [
    {
     "name": "stdout",
     "output_type": "stream",
     "text": [
      "Requirement already satisfied: psycopg2 in c:\\programdata\\anaconda3\\lib\\site-packages (2.8.3)\n"
     ]
    }
   ],
   "source": [
    "!pip install psycopg2"
   ]
  },
  {
   "cell_type": "code",
   "execution_count": 2,
   "metadata": {},
   "outputs": [],
   "source": [
    "import pandas \n",
    "import configparser\n",
    "import psycopg2"
   ]
  },
  {
   "cell_type": "code",
   "execution_count": 3,
   "metadata": {},
   "outputs": [],
   "source": [
    "config = configparser.ConfigParser()\n",
    "config.read('config')\n",
    "\n",
    "host = config['myaws']['host']\n",
    "user = config['myaws']['user']\n",
    "pwsd = config['myaws']['pwsd']\n",
    "database = config['myaws']['database']"
   ]
  },
  {
   "cell_type": "code",
   "execution_count": 4,
   "metadata": {},
   "outputs": [],
   "source": [
    "conn = psycopg2.connect(\n",
    "                         host = host,\n",
    "                         user = user,\n",
    "                         password = pwsd,\n",
    "                         dbname = database\n",
    ")"
   ]
  },
  {
   "cell_type": "code",
   "execution_count": 5,
   "metadata": {},
   "outputs": [],
   "source": [
    "cur = conn.cursor()"
   ]
  },
  {
   "cell_type": "markdown",
   "metadata": {},
   "source": [
    "## Q1"
   ]
  },
  {
   "cell_type": "code",
   "execution_count": 6,
   "metadata": {},
   "outputs": [],
   "source": [
    "sql_statement = '''\n",
    "            select * from student_gp15\n",
    "            '''"
   ]
  },
  {
   "cell_type": "code",
   "execution_count": 7,
   "metadata": {},
   "outputs": [],
   "source": [
    "cur.execute(sql_statement)"
   ]
  },
  {
   "cell_type": "code",
   "execution_count": 8,
   "metadata": {},
   "outputs": [
    {
     "data": {
      "text/plain": [
       "('topacinv@dukes.jmu.edu                                                                              ',\n",
       " 'Daniel Topacio                                                                                      ',\n",
       " 'IA                                                                                                  ')"
      ]
     },
     "execution_count": 8,
     "metadata": {},
     "output_type": "execute_result"
    }
   ],
   "source": [
    "cur.fetchone()"
   ]
  },
  {
   "cell_type": "code",
   "execution_count": 9,
   "metadata": {},
   "outputs": [
    {
     "name": "stdout",
     "output_type": "stream",
     "text": [
      "('dovalamm@dukes.jmu.edu                                                                              ', 'Morgan Dovala                                                                                       ', 'IA                                                                                                  ')\n",
      "('santicm@dukes.jmu.edu                                                                               ', 'Chris Santi                                                                                         ', 'IA                                                                                                  ')\n",
      "('tobinnc@dukes.jmu.edu                                                                               ', 'Natalie Tobin                                                                                       ', 'GS                                                                                                  ')\n",
      "('plydr@dukes.jmu.edu                                                                                 ', 'Dylan Ply                                                                                           ', 'IA                                                                                                  ')\n"
     ]
    }
   ],
   "source": [
    "for result in cur.fetchall():\n",
    "    print (result)"
   ]
  },
  {
   "cell_type": "code",
   "execution_count": 10,
   "metadata": {},
   "outputs": [
    {
     "data": {
      "text/html": [
       "<div>\n",
       "<style scoped>\n",
       "    .dataframe tbody tr th:only-of-type {\n",
       "        vertical-align: middle;\n",
       "    }\n",
       "\n",
       "    .dataframe tbody tr th {\n",
       "        vertical-align: top;\n",
       "    }\n",
       "\n",
       "    .dataframe thead th {\n",
       "        text-align: right;\n",
       "    }\n",
       "</style>\n",
       "<table border=\"1\" class=\"dataframe\">\n",
       "  <thead>\n",
       "    <tr style=\"text-align: right;\">\n",
       "      <th></th>\n",
       "      <th>email</th>\n",
       "      <th>name</th>\n",
       "      <th>major</th>\n",
       "    </tr>\n",
       "  </thead>\n",
       "  <tbody>\n",
       "    <tr>\n",
       "      <th>0</th>\n",
       "      <td>topacinv@dukes.jmu.edu                        ...</td>\n",
       "      <td>Daniel Topacio                                ...</td>\n",
       "      <td>IA                                            ...</td>\n",
       "    </tr>\n",
       "    <tr>\n",
       "      <th>1</th>\n",
       "      <td>dovalamm@dukes.jmu.edu                        ...</td>\n",
       "      <td>Morgan Dovala                                 ...</td>\n",
       "      <td>IA                                            ...</td>\n",
       "    </tr>\n",
       "    <tr>\n",
       "      <th>2</th>\n",
       "      <td>santicm@dukes.jmu.edu                         ...</td>\n",
       "      <td>Chris Santi                                   ...</td>\n",
       "      <td>IA                                            ...</td>\n",
       "    </tr>\n",
       "    <tr>\n",
       "      <th>3</th>\n",
       "      <td>tobinnc@dukes.jmu.edu                         ...</td>\n",
       "      <td>Natalie Tobin                                 ...</td>\n",
       "      <td>GS                                            ...</td>\n",
       "    </tr>\n",
       "    <tr>\n",
       "      <th>4</th>\n",
       "      <td>plydr@dukes.jmu.edu                           ...</td>\n",
       "      <td>Dylan Ply                                     ...</td>\n",
       "      <td>IA                                            ...</td>\n",
       "    </tr>\n",
       "  </tbody>\n",
       "</table>\n",
       "</div>"
      ],
      "text/plain": [
       "                                               email  \\\n",
       "0  topacinv@dukes.jmu.edu                        ...   \n",
       "1  dovalamm@dukes.jmu.edu                        ...   \n",
       "2  santicm@dukes.jmu.edu                         ...   \n",
       "3  tobinnc@dukes.jmu.edu                         ...   \n",
       "4  plydr@dukes.jmu.edu                           ...   \n",
       "\n",
       "                                                name  \\\n",
       "0  Daniel Topacio                                ...   \n",
       "1  Morgan Dovala                                 ...   \n",
       "2  Chris Santi                                   ...   \n",
       "3  Natalie Tobin                                 ...   \n",
       "4  Dylan Ply                                     ...   \n",
       "\n",
       "                                               major  \n",
       "0  IA                                            ...  \n",
       "1  IA                                            ...  \n",
       "2  IA                                            ...  \n",
       "3  GS                                            ...  \n",
       "4  IA                                            ...  "
      ]
     },
     "execution_count": 10,
     "metadata": {},
     "output_type": "execute_result"
    }
   ],
   "source": [
    "df = pandas.read_sql_query(sql_statement,conn)\n",
    "df[:]"
   ]
  },
  {
   "cell_type": "code",
   "execution_count": 11,
   "metadata": {},
   "outputs": [
    {
     "data": {
      "text/html": [
       "<div>\n",
       "<style scoped>\n",
       "    .dataframe tbody tr th:only-of-type {\n",
       "        vertical-align: middle;\n",
       "    }\n",
       "\n",
       "    .dataframe tbody tr th {\n",
       "        vertical-align: top;\n",
       "    }\n",
       "\n",
       "    .dataframe thead th {\n",
       "        text-align: right;\n",
       "    }\n",
       "</style>\n",
       "<table border=\"1\" class=\"dataframe\">\n",
       "  <thead>\n",
       "    <tr style=\"text-align: right;\">\n",
       "      <th></th>\n",
       "      <th>email</th>\n",
       "      <th>name</th>\n",
       "      <th>major</th>\n",
       "    </tr>\n",
       "  </thead>\n",
       "  <tbody>\n",
       "    <tr>\n",
       "      <th>count</th>\n",
       "      <td>5</td>\n",
       "      <td>5</td>\n",
       "      <td>5</td>\n",
       "    </tr>\n",
       "    <tr>\n",
       "      <th>unique</th>\n",
       "      <td>5</td>\n",
       "      <td>5</td>\n",
       "      <td>2</td>\n",
       "    </tr>\n",
       "    <tr>\n",
       "      <th>top</th>\n",
       "      <td>plydr@dukes.jmu.edu                           ...</td>\n",
       "      <td>Daniel Topacio                                ...</td>\n",
       "      <td>IA                                            ...</td>\n",
       "    </tr>\n",
       "    <tr>\n",
       "      <th>freq</th>\n",
       "      <td>1</td>\n",
       "      <td>1</td>\n",
       "      <td>4</td>\n",
       "    </tr>\n",
       "  </tbody>\n",
       "</table>\n",
       "</div>"
      ],
      "text/plain": [
       "                                                    email  \\\n",
       "count                                                   5   \n",
       "unique                                                  5   \n",
       "top     plydr@dukes.jmu.edu                           ...   \n",
       "freq                                                    1   \n",
       "\n",
       "                                                     name  \\\n",
       "count                                                   5   \n",
       "unique                                                  5   \n",
       "top     Daniel Topacio                                ...   \n",
       "freq                                                    1   \n",
       "\n",
       "                                                    major  \n",
       "count                                                   5  \n",
       "unique                                                  2  \n",
       "top     IA                                            ...  \n",
       "freq                                                    4  "
      ]
     },
     "execution_count": 11,
     "metadata": {},
     "output_type": "execute_result"
    }
   ],
   "source": [
    "df.describe()"
   ]
  },
  {
   "cell_type": "markdown",
   "metadata": {},
   "source": [
    "## Q2"
   ]
  },
  {
   "cell_type": "code",
   "execution_count": 12,
   "metadata": {},
   "outputs": [],
   "source": [
    "sql_statement_2 = '''\n",
    "                        select\n",
    "                        cname, count (semail)\n",
    "                        from enroll_gp15\n",
    "                        group by cname\n",
    "                        order by count (cname) desc\n",
    "                        '''"
   ]
  },
  {
   "cell_type": "code",
   "execution_count": 13,
   "metadata": {},
   "outputs": [],
   "source": [
    "cur.execute(sql_statement_2)"
   ]
  },
  {
   "cell_type": "code",
   "execution_count": 14,
   "metadata": {},
   "outputs": [
    {
     "data": {
      "text/plain": [
       "('IA210                                                                                               ',\n",
       " 1)"
      ]
     },
     "execution_count": 14,
     "metadata": {},
     "output_type": "execute_result"
    }
   ],
   "source": [
    "cur.fetchone()"
   ]
  },
  {
   "cell_type": "code",
   "execution_count": 15,
   "metadata": {},
   "outputs": [
    {
     "name": "stdout",
     "output_type": "stream",
     "text": [
      "('IA340                                                                                               ', 1)\n",
      "('IA480                                                                                               ', 1)\n",
      "('IA460                                                                                               ', 1)\n",
      "('IA300                                                                                               ', 1)\n"
     ]
    }
   ],
   "source": [
    "for result in cur.fetchall():\n",
    "    print (result)"
   ]
  },
  {
   "cell_type": "code",
   "execution_count": 16,
   "metadata": {},
   "outputs": [
    {
     "data": {
      "text/html": [
       "<div>\n",
       "<style scoped>\n",
       "    .dataframe tbody tr th:only-of-type {\n",
       "        vertical-align: middle;\n",
       "    }\n",
       "\n",
       "    .dataframe tbody tr th {\n",
       "        vertical-align: top;\n",
       "    }\n",
       "\n",
       "    .dataframe thead th {\n",
       "        text-align: right;\n",
       "    }\n",
       "</style>\n",
       "<table border=\"1\" class=\"dataframe\">\n",
       "  <thead>\n",
       "    <tr style=\"text-align: right;\">\n",
       "      <th></th>\n",
       "      <th>cname</th>\n",
       "      <th>count</th>\n",
       "    </tr>\n",
       "  </thead>\n",
       "  <tbody>\n",
       "    <tr>\n",
       "      <th>0</th>\n",
       "      <td>IA210                                         ...</td>\n",
       "      <td>1</td>\n",
       "    </tr>\n",
       "    <tr>\n",
       "      <th>1</th>\n",
       "      <td>IA340                                         ...</td>\n",
       "      <td>1</td>\n",
       "    </tr>\n",
       "    <tr>\n",
       "      <th>2</th>\n",
       "      <td>IA480                                         ...</td>\n",
       "      <td>1</td>\n",
       "    </tr>\n",
       "    <tr>\n",
       "      <th>3</th>\n",
       "      <td>IA460                                         ...</td>\n",
       "      <td>1</td>\n",
       "    </tr>\n",
       "    <tr>\n",
       "      <th>4</th>\n",
       "      <td>IA300                                         ...</td>\n",
       "      <td>1</td>\n",
       "    </tr>\n",
       "  </tbody>\n",
       "</table>\n",
       "</div>"
      ],
      "text/plain": [
       "                                               cname  count\n",
       "0  IA210                                         ...      1\n",
       "1  IA340                                         ...      1\n",
       "2  IA480                                         ...      1\n",
       "3  IA460                                         ...      1\n",
       "4  IA300                                         ...      1"
      ]
     },
     "execution_count": 16,
     "metadata": {},
     "output_type": "execute_result"
    }
   ],
   "source": [
    "df = pandas.read_sql_query(sql_statement_2,conn)\n",
    "df[:]"
   ]
  },
  {
   "cell_type": "markdown",
   "metadata": {},
   "source": [
    "All courses have the same number of students enrolled, therefore there is no most enrolled course."
   ]
  },
  {
   "cell_type": "markdown",
   "metadata": {},
   "source": [
    "## Q3"
   ]
  },
  {
   "cell_type": "code",
   "execution_count": 17,
   "metadata": {},
   "outputs": [],
   "source": [
    "sql_statement_3 = '''\n",
    "            select * from teacher_gp15\n",
    "            inner join course_gp15\n",
    "            on teacher_gp15.email = course_gp15.temail\n",
    "            '''"
   ]
  },
  {
   "cell_type": "code",
   "execution_count": 18,
   "metadata": {},
   "outputs": [],
   "source": [
    "cur.execute(sql_statement_3)"
   ]
  },
  {
   "cell_type": "code",
   "execution_count": 19,
   "metadata": {},
   "outputs": [
    {
     "data": {
      "text/plain": [
       "('weixx@jmu.edu                                                                                       ',\n",
       " 'Xuebin Wei                                                                                          ',\n",
       " 'isat112             ',\n",
       " 'IA340                                                                                               ',\n",
       " 'engeo2010                                                                                           ',\n",
       " 'weixx@jmu.edu                                                                                       ')"
      ]
     },
     "execution_count": 19,
     "metadata": {},
     "output_type": "execute_result"
    }
   ],
   "source": [
    "cur.fetchone()"
   ]
  },
  {
   "cell_type": "code",
   "execution_count": 20,
   "metadata": {},
   "outputs": [
    {
     "name": "stdout",
     "output_type": "stream",
     "text": [
      "('waltontr@jmu.edu                                                                                    ', 'Tim Walton                                                                                          ', 'isat326             ', 'IA460                                                                                               ', 'engeo2202                                                                                           ', 'waltontr@jmu.edu                                                                                    ')\n",
      "('moore8ka@jmu.edu                                                                                    ', 'Kathleen Moore                                                                                      ', 'isat116             ', 'IA480                                                                                               ', 'engeo1209                                                                                           ', 'moore8ka@jmu.edu                                                                                    ')\n",
      "('taoqx@jmu.edu                                                                                       ', 'Tom Tao                                                                                             ', 'engeo2107           ', 'IA210                                                                                               ', 'isat350                                                                                             ', 'taoqx@jmu.edu                                                                                       ')\n",
      "('doeja@dukes.jmu.edu                                                                                 ', 'John Doe                                                                                            ', '123                 ', 'IA300                                                                                               ', 'engeo1204                                                                                           ', 'doeja@dukes.jmu.edu                                                                                 ')\n",
      "('doeja@dukes.jmu.edu                                                                                 ', 'John Doe                                                                                            ', '123                 ', 'John Doe                                                                                            ', '123                                                                                                 ', 'doeja@dukes.jmu.edu                                                                                 ')\n",
      "('doeja@dukes.jmu.edu                                                                                 ', 'John Doe                                                                                            ', '123                 ', 'IA150                                                                                               ', '123                                                                                                 ', 'doeja@dukes.jmu.edu                                                                                 ')\n",
      "('doejb@jmu.edu                                                                                       ', 'John Doe2                                                                                           ', 'isat123             ', 'IA101                                                                                               ', 'isat456                                                                                             ', 'doejb@jmu.edu                                                                                       ')\n"
     ]
    }
   ],
   "source": [
    "for result in cur.fetchall():\n",
    "    print (result)"
   ]
  },
  {
   "cell_type": "code",
   "execution_count": 21,
   "metadata": {},
   "outputs": [
    {
     "data": {
      "text/html": [
       "<div>\n",
       "<style scoped>\n",
       "    .dataframe tbody tr th:only-of-type {\n",
       "        vertical-align: middle;\n",
       "    }\n",
       "\n",
       "    .dataframe tbody tr th {\n",
       "        vertical-align: top;\n",
       "    }\n",
       "\n",
       "    .dataframe thead th {\n",
       "        text-align: right;\n",
       "    }\n",
       "</style>\n",
       "<table border=\"1\" class=\"dataframe\">\n",
       "  <thead>\n",
       "    <tr style=\"text-align: right;\">\n",
       "      <th></th>\n",
       "      <th>email</th>\n",
       "      <th>name</th>\n",
       "      <th>office</th>\n",
       "      <th>name</th>\n",
       "      <th>room</th>\n",
       "      <th>temail</th>\n",
       "    </tr>\n",
       "  </thead>\n",
       "  <tbody>\n",
       "    <tr>\n",
       "      <th>0</th>\n",
       "      <td>weixx@jmu.edu                                 ...</td>\n",
       "      <td>Xuebin Wei                                    ...</td>\n",
       "      <td>isat112</td>\n",
       "      <td>IA340                                         ...</td>\n",
       "      <td>engeo2010                                     ...</td>\n",
       "      <td>weixx@jmu.edu                                 ...</td>\n",
       "    </tr>\n",
       "    <tr>\n",
       "      <th>1</th>\n",
       "      <td>waltontr@jmu.edu                              ...</td>\n",
       "      <td>Tim Walton                                    ...</td>\n",
       "      <td>isat326</td>\n",
       "      <td>IA460                                         ...</td>\n",
       "      <td>engeo2202                                     ...</td>\n",
       "      <td>waltontr@jmu.edu                              ...</td>\n",
       "    </tr>\n",
       "    <tr>\n",
       "      <th>2</th>\n",
       "      <td>moore8ka@jmu.edu                              ...</td>\n",
       "      <td>Kathleen Moore                                ...</td>\n",
       "      <td>isat116</td>\n",
       "      <td>IA480                                         ...</td>\n",
       "      <td>engeo1209                                     ...</td>\n",
       "      <td>moore8ka@jmu.edu                              ...</td>\n",
       "    </tr>\n",
       "    <tr>\n",
       "      <th>3</th>\n",
       "      <td>taoqx@jmu.edu                                 ...</td>\n",
       "      <td>Tom Tao                                       ...</td>\n",
       "      <td>engeo2107</td>\n",
       "      <td>IA210                                         ...</td>\n",
       "      <td>isat350                                       ...</td>\n",
       "      <td>taoqx@jmu.edu                                 ...</td>\n",
       "    </tr>\n",
       "    <tr>\n",
       "      <th>4</th>\n",
       "      <td>doeja@dukes.jmu.edu                           ...</td>\n",
       "      <td>John Doe                                      ...</td>\n",
       "      <td>123</td>\n",
       "      <td>IA300                                         ...</td>\n",
       "      <td>engeo1204                                     ...</td>\n",
       "      <td>doeja@dukes.jmu.edu                           ...</td>\n",
       "    </tr>\n",
       "    <tr>\n",
       "      <th>5</th>\n",
       "      <td>doeja@dukes.jmu.edu                           ...</td>\n",
       "      <td>John Doe                                      ...</td>\n",
       "      <td>123</td>\n",
       "      <td>John Doe                                      ...</td>\n",
       "      <td>123                                           ...</td>\n",
       "      <td>doeja@dukes.jmu.edu                           ...</td>\n",
       "    </tr>\n",
       "    <tr>\n",
       "      <th>6</th>\n",
       "      <td>doeja@dukes.jmu.edu                           ...</td>\n",
       "      <td>John Doe                                      ...</td>\n",
       "      <td>123</td>\n",
       "      <td>IA150                                         ...</td>\n",
       "      <td>123                                           ...</td>\n",
       "      <td>doeja@dukes.jmu.edu                           ...</td>\n",
       "    </tr>\n",
       "    <tr>\n",
       "      <th>7</th>\n",
       "      <td>doejb@jmu.edu                                 ...</td>\n",
       "      <td>John Doe2                                     ...</td>\n",
       "      <td>isat123</td>\n",
       "      <td>IA101                                         ...</td>\n",
       "      <td>isat456                                       ...</td>\n",
       "      <td>doejb@jmu.edu                                 ...</td>\n",
       "    </tr>\n",
       "  </tbody>\n",
       "</table>\n",
       "</div>"
      ],
      "text/plain": [
       "                                               email  \\\n",
       "0  weixx@jmu.edu                                 ...   \n",
       "1  waltontr@jmu.edu                              ...   \n",
       "2  moore8ka@jmu.edu                              ...   \n",
       "3  taoqx@jmu.edu                                 ...   \n",
       "4  doeja@dukes.jmu.edu                           ...   \n",
       "5  doeja@dukes.jmu.edu                           ...   \n",
       "6  doeja@dukes.jmu.edu                           ...   \n",
       "7  doejb@jmu.edu                                 ...   \n",
       "\n",
       "                                                name                office  \\\n",
       "0  Xuebin Wei                                    ...  isat112                \n",
       "1  Tim Walton                                    ...  isat326                \n",
       "2  Kathleen Moore                                ...  isat116                \n",
       "3  Tom Tao                                       ...  engeo2107              \n",
       "4  John Doe                                      ...  123                    \n",
       "5  John Doe                                      ...  123                    \n",
       "6  John Doe                                      ...  123                    \n",
       "7  John Doe2                                     ...  isat123                \n",
       "\n",
       "                                                name  \\\n",
       "0  IA340                                         ...   \n",
       "1  IA460                                         ...   \n",
       "2  IA480                                         ...   \n",
       "3  IA210                                         ...   \n",
       "4  IA300                                         ...   \n",
       "5  John Doe                                      ...   \n",
       "6  IA150                                         ...   \n",
       "7  IA101                                         ...   \n",
       "\n",
       "                                                room  \\\n",
       "0  engeo2010                                     ...   \n",
       "1  engeo2202                                     ...   \n",
       "2  engeo1209                                     ...   \n",
       "3  isat350                                       ...   \n",
       "4  engeo1204                                     ...   \n",
       "5  123                                           ...   \n",
       "6  123                                           ...   \n",
       "7  isat456                                       ...   \n",
       "\n",
       "                                              temail  \n",
       "0  weixx@jmu.edu                                 ...  \n",
       "1  waltontr@jmu.edu                              ...  \n",
       "2  moore8ka@jmu.edu                              ...  \n",
       "3  taoqx@jmu.edu                                 ...  \n",
       "4  doeja@dukes.jmu.edu                           ...  \n",
       "5  doeja@dukes.jmu.edu                           ...  \n",
       "6  doeja@dukes.jmu.edu                           ...  \n",
       "7  doejb@jmu.edu                                 ...  "
      ]
     },
     "execution_count": 21,
     "metadata": {},
     "output_type": "execute_result"
    }
   ],
   "source": [
    "df = pandas.read_sql_query(sql_statement_3,conn)\n",
    "df[:]"
   ]
  },
  {
   "cell_type": "markdown",
   "metadata": {},
   "source": [
    "## Q4"
   ]
  },
  {
   "cell_type": "code",
   "execution_count": 22,
   "metadata": {},
   "outputs": [],
   "source": [
    "sql_statement_4 = '''\n",
    "                    select\n",
    "                    teacher_gp15.name as tname,\n",
    "                    count (course_gp15.name) as course_num\n",
    "                    from teacher_gp15\n",
    "                    inner join course_gp15\n",
    "                    on teacher_gp15.email = course_gp15.temail\n",
    "                    group by teacher_gp15.name\n",
    "                    '''"
   ]
  },
  {
   "cell_type": "code",
   "execution_count": 23,
   "metadata": {},
   "outputs": [],
   "source": [
    "cur.execute(sql_statement_4)"
   ]
  },
  {
   "cell_type": "code",
   "execution_count": 24,
   "metadata": {},
   "outputs": [
    {
     "data": {
      "text/plain": [
       "('Xuebin Wei                                                                                          ',\n",
       " 1)"
      ]
     },
     "execution_count": 24,
     "metadata": {},
     "output_type": "execute_result"
    }
   ],
   "source": [
    "cur.fetchone()"
   ]
  },
  {
   "cell_type": "code",
   "execution_count": 25,
   "metadata": {},
   "outputs": [
    {
     "name": "stdout",
     "output_type": "stream",
     "text": [
      "('Kathleen Moore                                                                                      ', 1)\n",
      "('John Doe                                                                                            ', 3)\n",
      "('Tim Walton                                                                                          ', 1)\n",
      "('John Doe2                                                                                           ', 1)\n",
      "('Tom Tao                                                                                             ', 1)\n"
     ]
    }
   ],
   "source": [
    "for result in cur.fetchall():\n",
    "    print (result)"
   ]
  },
  {
   "cell_type": "code",
   "execution_count": 26,
   "metadata": {},
   "outputs": [
    {
     "data": {
      "text/html": [
       "<div>\n",
       "<style scoped>\n",
       "    .dataframe tbody tr th:only-of-type {\n",
       "        vertical-align: middle;\n",
       "    }\n",
       "\n",
       "    .dataframe tbody tr th {\n",
       "        vertical-align: top;\n",
       "    }\n",
       "\n",
       "    .dataframe thead th {\n",
       "        text-align: right;\n",
       "    }\n",
       "</style>\n",
       "<table border=\"1\" class=\"dataframe\">\n",
       "  <thead>\n",
       "    <tr style=\"text-align: right;\">\n",
       "      <th></th>\n",
       "      <th>tname</th>\n",
       "      <th>course_num</th>\n",
       "    </tr>\n",
       "  </thead>\n",
       "  <tbody>\n",
       "    <tr>\n",
       "      <th>0</th>\n",
       "      <td>Xuebin Wei                                    ...</td>\n",
       "      <td>1</td>\n",
       "    </tr>\n",
       "    <tr>\n",
       "      <th>1</th>\n",
       "      <td>Kathleen Moore                                ...</td>\n",
       "      <td>1</td>\n",
       "    </tr>\n",
       "    <tr>\n",
       "      <th>2</th>\n",
       "      <td>John Doe                                      ...</td>\n",
       "      <td>3</td>\n",
       "    </tr>\n",
       "    <tr>\n",
       "      <th>3</th>\n",
       "      <td>Tim Walton                                    ...</td>\n",
       "      <td>1</td>\n",
       "    </tr>\n",
       "    <tr>\n",
       "      <th>4</th>\n",
       "      <td>John Doe2                                     ...</td>\n",
       "      <td>1</td>\n",
       "    </tr>\n",
       "    <tr>\n",
       "      <th>5</th>\n",
       "      <td>Tom Tao                                       ...</td>\n",
       "      <td>1</td>\n",
       "    </tr>\n",
       "  </tbody>\n",
       "</table>\n",
       "</div>"
      ],
      "text/plain": [
       "                                               tname  course_num\n",
       "0  Xuebin Wei                                    ...           1\n",
       "1  Kathleen Moore                                ...           1\n",
       "2  John Doe                                      ...           3\n",
       "3  Tim Walton                                    ...           1\n",
       "4  John Doe2                                     ...           1\n",
       "5  Tom Tao                                       ...           1"
      ]
     },
     "execution_count": 26,
     "metadata": {},
     "output_type": "execute_result"
    }
   ],
   "source": [
    "df = pandas.read_sql_query(sql_statement_4,conn)\n",
    "df[:]"
   ]
  },
  {
   "cell_type": "markdown",
   "metadata": {},
   "source": [
    "## Q5"
   ]
  },
  {
   "cell_type": "code",
   "execution_count": 27,
   "metadata": {},
   "outputs": [
    {
     "name": "stdout",
     "output_type": "stream",
     "text": [
      "\n",
      "                        insert into teacher_gp15(email,name,office)\n",
      "                        values('doejb@jmu.edu','John Doe2', 'isat123')\n",
      "                        \n"
     ]
    }
   ],
   "source": [
    "sql_insert_statement = '''\n",
    "                        insert into teacher_gp15(email,name,office)\n",
    "                        values('doejb@jmu.edu','John Doe2', 'isat123')\n",
    "                        '''.format('doejb@jmu.edu','John Doe2',\"isat123\")\n",
    "print(sql_insert_statement)"
   ]
  },
  {
   "cell_type": "code",
   "execution_count": 28,
   "metadata": {},
   "outputs": [],
   "source": [
    "#cur.execute(sql_insert_statement)"
   ]
  },
  {
   "cell_type": "code",
   "execution_count": 29,
   "metadata": {},
   "outputs": [],
   "source": [
    "conn.commit()"
   ]
  },
  {
   "cell_type": "code",
   "execution_count": 30,
   "metadata": {
    "scrolled": true
   },
   "outputs": [
    {
     "data": {
      "text/html": [
       "<div>\n",
       "<style scoped>\n",
       "    .dataframe tbody tr th:only-of-type {\n",
       "        vertical-align: middle;\n",
       "    }\n",
       "\n",
       "    .dataframe tbody tr th {\n",
       "        vertical-align: top;\n",
       "    }\n",
       "\n",
       "    .dataframe thead th {\n",
       "        text-align: right;\n",
       "    }\n",
       "</style>\n",
       "<table border=\"1\" class=\"dataframe\">\n",
       "  <thead>\n",
       "    <tr style=\"text-align: right;\">\n",
       "      <th></th>\n",
       "      <th>email</th>\n",
       "      <th>name</th>\n",
       "      <th>office</th>\n",
       "    </tr>\n",
       "  </thead>\n",
       "  <tbody>\n",
       "    <tr>\n",
       "      <th>0</th>\n",
       "      <td>weixx@jmu.edu                                 ...</td>\n",
       "      <td>Xuebin Wei                                    ...</td>\n",
       "      <td>isat112</td>\n",
       "    </tr>\n",
       "    <tr>\n",
       "      <th>1</th>\n",
       "      <td>waltontr@jmu.edu                              ...</td>\n",
       "      <td>Tim Walton                                    ...</td>\n",
       "      <td>isat326</td>\n",
       "    </tr>\n",
       "    <tr>\n",
       "      <th>2</th>\n",
       "      <td>moore8ka@jmu.edu                              ...</td>\n",
       "      <td>Kathleen Moore                                ...</td>\n",
       "      <td>isat116</td>\n",
       "    </tr>\n",
       "    <tr>\n",
       "      <th>3</th>\n",
       "      <td>taoqx@jmu.edu                                 ...</td>\n",
       "      <td>Tom Tao                                       ...</td>\n",
       "      <td>engeo2107</td>\n",
       "    </tr>\n",
       "    <tr>\n",
       "      <th>4</th>\n",
       "      <td>John Doe                                      ...</td>\n",
       "      <td>doeja@dukes.jmu.edu                           ...</td>\n",
       "      <td>None</td>\n",
       "    </tr>\n",
       "    <tr>\n",
       "      <th>5</th>\n",
       "      <td>doeja@dukes.jmu.edu                           ...</td>\n",
       "      <td>John Doe                                      ...</td>\n",
       "      <td>123</td>\n",
       "    </tr>\n",
       "    <tr>\n",
       "      <th>6</th>\n",
       "      <td>doejb@jmu.edu                                 ...</td>\n",
       "      <td>John Doe2                                     ...</td>\n",
       "      <td>isat123</td>\n",
       "    </tr>\n",
       "  </tbody>\n",
       "</table>\n",
       "</div>"
      ],
      "text/plain": [
       "                                               email  \\\n",
       "0  weixx@jmu.edu                                 ...   \n",
       "1  waltontr@jmu.edu                              ...   \n",
       "2  moore8ka@jmu.edu                              ...   \n",
       "3  taoqx@jmu.edu                                 ...   \n",
       "4  John Doe                                      ...   \n",
       "5  doeja@dukes.jmu.edu                           ...   \n",
       "6  doejb@jmu.edu                                 ...   \n",
       "\n",
       "                                                name                office  \n",
       "0  Xuebin Wei                                    ...  isat112               \n",
       "1  Tim Walton                                    ...  isat326               \n",
       "2  Kathleen Moore                                ...  isat116               \n",
       "3  Tom Tao                                       ...  engeo2107             \n",
       "4  doeja@dukes.jmu.edu                           ...                  None  \n",
       "5  John Doe                                      ...  123                   \n",
       "6  John Doe2                                     ...  isat123               "
      ]
     },
     "execution_count": 30,
     "metadata": {},
     "output_type": "execute_result"
    }
   ],
   "source": [
    "df = pandas.read_sql_query('''select * from teacher_gp15''',conn)\n",
    "df[:]"
   ]
  },
  {
   "cell_type": "code",
   "execution_count": 31,
   "metadata": {},
   "outputs": [
    {
     "name": "stdout",
     "output_type": "stream",
     "text": [
      "\n",
      "                        insert into course_gp15(name,room,temail)\n",
      "                        values('IA101','isat456', 'doejb@jmu.edu')\n",
      "                        \n"
     ]
    }
   ],
   "source": [
    "sql_insert_statement2 = '''\n",
    "                        insert into course_gp15(name,room,temail)\n",
    "                        values('IA101','isat456', 'doejb@jmu.edu')\n",
    "                        '''.format('IA101','isat456',\"doejb@jmu.edu\")\n",
    "print(sql_insert_statement2)"
   ]
  },
  {
   "cell_type": "code",
   "execution_count": 32,
   "metadata": {
    "scrolled": true
   },
   "outputs": [
    {
     "ename": "UniqueViolation",
     "evalue": "duplicate key value violates unique constraint \"course_gp15_pkey\"\nDETAIL:  Key (name)=(IA101                                                                                               ) already exists.\n",
     "output_type": "error",
     "traceback": [
      "\u001b[1;31m---------------------------------------------------------------------------\u001b[0m",
      "\u001b[1;31mUniqueViolation\u001b[0m                           Traceback (most recent call last)",
      "\u001b[1;32m<ipython-input-32-9e77b116cf5c>\u001b[0m in \u001b[0;36m<module>\u001b[1;34m()\u001b[0m\n\u001b[1;32m----> 1\u001b[1;33m \u001b[0mcur\u001b[0m\u001b[1;33m.\u001b[0m\u001b[0mexecute\u001b[0m\u001b[1;33m(\u001b[0m\u001b[0msql_insert_statement2\u001b[0m\u001b[1;33m)\u001b[0m\u001b[1;33m\u001b[0m\u001b[0m\n\u001b[0m",
      "\u001b[1;31mUniqueViolation\u001b[0m: duplicate key value violates unique constraint \"course_gp15_pkey\"\nDETAIL:  Key (name)=(IA101                                                                                               ) already exists.\n"
     ]
    }
   ],
   "source": [
    "cur.execute(sql_insert_statement2)"
   ]
  },
  {
   "cell_type": "code",
   "execution_count": null,
   "metadata": {},
   "outputs": [],
   "source": [
    "conn.commit()"
   ]
  },
  {
   "cell_type": "code",
   "execution_count": null,
   "metadata": {},
   "outputs": [],
   "source": [
    "df = pandas.read_sql_query('''select * from course_gp15''',conn)\n",
    "df[:]"
   ]
  },
  {
   "cell_type": "markdown",
   "metadata": {},
   "source": [
    "## Q6"
   ]
  },
  {
   "cell_type": "code",
   "execution_count": 36,
   "metadata": {},
   "outputs": [
    {
     "name": "stdout",
     "output_type": "stream",
     "text": [
      "\n",
      "                        update course_gp15\n",
      "                        set temail = 'doejb@jmu.edu'\n",
      "                        where name = 'IA340'\n",
      "                        \n"
     ]
    }
   ],
   "source": [
    "sql_insert_statement3 = '''\n",
    "                        update course_gp15\n",
    "                        set temail = 'doejb@jmu.edu'\n",
    "                        where name = 'IA340'\n",
    "                        '''\n",
    "print(sql_insert_statement3)"
   ]
  },
  {
   "cell_type": "code",
   "execution_count": 37,
   "metadata": {},
   "outputs": [],
   "source": [
    "cur.execute(sql_insert_statement3)"
   ]
  },
  {
   "cell_type": "code",
   "execution_count": 38,
   "metadata": {},
   "outputs": [],
   "source": [
    "conn.commit()"
   ]
  },
  {
   "cell_type": "code",
   "execution_count": 39,
   "metadata": {},
   "outputs": [
    {
     "data": {
      "text/html": [
       "<div>\n",
       "<style scoped>\n",
       "    .dataframe tbody tr th:only-of-type {\n",
       "        vertical-align: middle;\n",
       "    }\n",
       "\n",
       "    .dataframe tbody tr th {\n",
       "        vertical-align: top;\n",
       "    }\n",
       "\n",
       "    .dataframe thead th {\n",
       "        text-align: right;\n",
       "    }\n",
       "</style>\n",
       "<table border=\"1\" class=\"dataframe\">\n",
       "  <thead>\n",
       "    <tr style=\"text-align: right;\">\n",
       "      <th></th>\n",
       "      <th>name</th>\n",
       "      <th>room</th>\n",
       "      <th>temail</th>\n",
       "    </tr>\n",
       "  </thead>\n",
       "  <tbody>\n",
       "    <tr>\n",
       "      <th>0</th>\n",
       "      <td>IA460                                         ...</td>\n",
       "      <td>engeo2202                                     ...</td>\n",
       "      <td>waltontr@jmu.edu                              ...</td>\n",
       "    </tr>\n",
       "    <tr>\n",
       "      <th>1</th>\n",
       "      <td>IA480                                         ...</td>\n",
       "      <td>engeo1209                                     ...</td>\n",
       "      <td>moore8ka@jmu.edu                              ...</td>\n",
       "    </tr>\n",
       "    <tr>\n",
       "      <th>2</th>\n",
       "      <td>IA210                                         ...</td>\n",
       "      <td>isat350                                       ...</td>\n",
       "      <td>taoqx@jmu.edu                                 ...</td>\n",
       "    </tr>\n",
       "    <tr>\n",
       "      <th>3</th>\n",
       "      <td>IA300                                         ...</td>\n",
       "      <td>engeo1204                                     ...</td>\n",
       "      <td>doeja@dukes.jmu.edu                           ...</td>\n",
       "    </tr>\n",
       "    <tr>\n",
       "      <th>4</th>\n",
       "      <td>IA340                                         ...</td>\n",
       "      <td>engeo2010                                     ...</td>\n",
       "      <td>doejb@jmu.edu                                 ...</td>\n",
       "    </tr>\n",
       "    <tr>\n",
       "      <th>5</th>\n",
       "      <td>John Doe                                      ...</td>\n",
       "      <td>123                                           ...</td>\n",
       "      <td>doeja@dukes.jmu.edu                           ...</td>\n",
       "    </tr>\n",
       "    <tr>\n",
       "      <th>6</th>\n",
       "      <td>IA150                                         ...</td>\n",
       "      <td>123                                           ...</td>\n",
       "      <td>doeja@dukes.jmu.edu                           ...</td>\n",
       "    </tr>\n",
       "    <tr>\n",
       "      <th>7</th>\n",
       "      <td>IA101                                         ...</td>\n",
       "      <td>isat456                                       ...</td>\n",
       "      <td>doejb@jmu.edu                                 ...</td>\n",
       "    </tr>\n",
       "  </tbody>\n",
       "</table>\n",
       "</div>"
      ],
      "text/plain": [
       "                                                name  \\\n",
       "0  IA460                                         ...   \n",
       "1  IA480                                         ...   \n",
       "2  IA210                                         ...   \n",
       "3  IA300                                         ...   \n",
       "4  IA340                                         ...   \n",
       "5  John Doe                                      ...   \n",
       "6  IA150                                         ...   \n",
       "7  IA101                                         ...   \n",
       "\n",
       "                                                room  \\\n",
       "0  engeo2202                                     ...   \n",
       "1  engeo1209                                     ...   \n",
       "2  isat350                                       ...   \n",
       "3  engeo1204                                     ...   \n",
       "4  engeo2010                                     ...   \n",
       "5  123                                           ...   \n",
       "6  123                                           ...   \n",
       "7  isat456                                       ...   \n",
       "\n",
       "                                              temail  \n",
       "0  waltontr@jmu.edu                              ...  \n",
       "1  moore8ka@jmu.edu                              ...  \n",
       "2  taoqx@jmu.edu                                 ...  \n",
       "3  doeja@dukes.jmu.edu                           ...  \n",
       "4  doejb@jmu.edu                                 ...  \n",
       "5  doeja@dukes.jmu.edu                           ...  \n",
       "6  doeja@dukes.jmu.edu                           ...  \n",
       "7  doejb@jmu.edu                                 ...  "
      ]
     },
     "execution_count": 39,
     "metadata": {},
     "output_type": "execute_result"
    }
   ],
   "source": [
    "df = pandas.read_sql_query('''select * from course_gp15''',conn)\n",
    "df[:]"
   ]
  },
  {
   "cell_type": "code",
   "execution_count": 45,
   "metadata": {},
   "outputs": [
    {
     "name": "stdout",
     "output_type": "stream",
     "text": [
      "\n",
      "                        delete from teacher_gp15\n",
      "                        where email = 'weixx@jmu.edu'\n",
      "                        \n"
     ]
    }
   ],
   "source": [
    "sql_delete_statement = '''\n",
    "                        delete from teacher_gp15\n",
    "                        where email = 'weixx@jmu.edu'\n",
    "                        '''\n",
    "print(sql_delete_statement)"
   ]
  },
  {
   "cell_type": "code",
   "execution_count": 46,
   "metadata": {},
   "outputs": [],
   "source": [
    "cur.execute(sql_delete_statement)"
   ]
  },
  {
   "cell_type": "code",
   "execution_count": 47,
   "metadata": {},
   "outputs": [],
   "source": [
    "conn.commit()"
   ]
  },
  {
   "cell_type": "code",
   "execution_count": 48,
   "metadata": {},
   "outputs": [
    {
     "data": {
      "text/html": [
       "<div>\n",
       "<style scoped>\n",
       "    .dataframe tbody tr th:only-of-type {\n",
       "        vertical-align: middle;\n",
       "    }\n",
       "\n",
       "    .dataframe tbody tr th {\n",
       "        vertical-align: top;\n",
       "    }\n",
       "\n",
       "    .dataframe thead th {\n",
       "        text-align: right;\n",
       "    }\n",
       "</style>\n",
       "<table border=\"1\" class=\"dataframe\">\n",
       "  <thead>\n",
       "    <tr style=\"text-align: right;\">\n",
       "      <th></th>\n",
       "      <th>email</th>\n",
       "      <th>name</th>\n",
       "      <th>office</th>\n",
       "    </tr>\n",
       "  </thead>\n",
       "  <tbody>\n",
       "    <tr>\n",
       "      <th>0</th>\n",
       "      <td>waltontr@jmu.edu                              ...</td>\n",
       "      <td>Tim Walton                                    ...</td>\n",
       "      <td>isat326</td>\n",
       "    </tr>\n",
       "    <tr>\n",
       "      <th>1</th>\n",
       "      <td>moore8ka@jmu.edu                              ...</td>\n",
       "      <td>Kathleen Moore                                ...</td>\n",
       "      <td>isat116</td>\n",
       "    </tr>\n",
       "    <tr>\n",
       "      <th>2</th>\n",
       "      <td>taoqx@jmu.edu                                 ...</td>\n",
       "      <td>Tom Tao                                       ...</td>\n",
       "      <td>engeo2107</td>\n",
       "    </tr>\n",
       "    <tr>\n",
       "      <th>3</th>\n",
       "      <td>John Doe                                      ...</td>\n",
       "      <td>doeja@dukes.jmu.edu                           ...</td>\n",
       "      <td>None</td>\n",
       "    </tr>\n",
       "    <tr>\n",
       "      <th>4</th>\n",
       "      <td>doeja@dukes.jmu.edu                           ...</td>\n",
       "      <td>John Doe                                      ...</td>\n",
       "      <td>123</td>\n",
       "    </tr>\n",
       "    <tr>\n",
       "      <th>5</th>\n",
       "      <td>doejb@jmu.edu                                 ...</td>\n",
       "      <td>John Doe2                                     ...</td>\n",
       "      <td>isat123</td>\n",
       "    </tr>\n",
       "  </tbody>\n",
       "</table>\n",
       "</div>"
      ],
      "text/plain": [
       "                                               email  \\\n",
       "0  waltontr@jmu.edu                              ...   \n",
       "1  moore8ka@jmu.edu                              ...   \n",
       "2  taoqx@jmu.edu                                 ...   \n",
       "3  John Doe                                      ...   \n",
       "4  doeja@dukes.jmu.edu                           ...   \n",
       "5  doejb@jmu.edu                                 ...   \n",
       "\n",
       "                                                name                office  \n",
       "0  Tim Walton                                    ...  isat326               \n",
       "1  Kathleen Moore                                ...  isat116               \n",
       "2  Tom Tao                                       ...  engeo2107             \n",
       "3  doeja@dukes.jmu.edu                           ...                  None  \n",
       "4  John Doe                                      ...  123                   \n",
       "5  John Doe2                                     ...  isat123               "
      ]
     },
     "execution_count": 48,
     "metadata": {},
     "output_type": "execute_result"
    }
   ],
   "source": [
    "df = pandas.read_sql_query('''select * from teacher_gp15''',conn)\n",
    "df[:]"
   ]
  }
 ],
 "metadata": {
  "kernelspec": {
   "display_name": "Python 3",
   "language": "python",
   "name": "python3"
  },
  "language_info": {
   "codemirror_mode": {
    "name": "ipython",
    "version": 3
   },
   "file_extension": ".py",
   "mimetype": "text/x-python",
   "name": "python",
   "nbconvert_exporter": "python",
   "pygments_lexer": "ipython3",
   "version": "3.6.5"
  }
 },
 "nbformat": 4,
 "nbformat_minor": 2
}
