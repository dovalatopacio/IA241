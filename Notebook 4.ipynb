{
 "cells": [
  {
   "cell_type": "markdown",
   "metadata": {},
   "source": [
    "# Lab 4"
   ]
  },
  {
   "cell_type": "markdown",
   "metadata": {},
   "source": [
    "## q1"
   ]
  },
  {
   "cell_type": "code",
   "execution_count": 1,
   "metadata": {},
   "outputs": [
    {
     "name": "stdout",
     "output_type": "stream",
     "text": [
      "120\n"
     ]
    }
   ],
   "source": [
    "result = 1\n",
    "for i in range(1,6):\n",
    "    result=result*i\n",
    "print (result)"
   ]
  },
  {
   "cell_type": "markdown",
   "metadata": {},
   "source": [
    "## q2"
   ]
  },
  {
   "cell_type": "code",
   "execution_count": 2,
   "metadata": {},
   "outputs": [
    {
     "name": "stdout",
     "output_type": "stream",
     "text": [
      "15\n"
     ]
    }
   ],
   "source": [
    "result = 0\n",
    "for i in range(1,6):\n",
    "    result=result+i\n",
    "print (result)"
   ]
  },
  {
   "cell_type": "markdown",
   "metadata": {},
   "source": [
    "## q3"
   ]
  },
  {
   "cell_type": "code",
   "execution_count": 3,
   "metadata": {},
   "outputs": [
    {
     "name": "stdout",
     "output_type": "stream",
     "text": [
      "181440\n"
     ]
    }
   ],
   "source": [
    "result = 1\n",
    "for i in range(3,10):\n",
    "    result=result*i\n",
    "print (result)"
   ]
  },
  {
   "cell_type": "markdown",
   "metadata": {},
   "source": [
    "## q4"
   ]
  },
  {
   "cell_type": "code",
   "execution_count": 4,
   "metadata": {},
   "outputs": [
    {
     "name": "stdout",
     "output_type": "stream",
     "text": [
      "40320\n",
      "6\n",
      "6720.0\n"
     ]
    }
   ],
   "source": [
    "result = 1\n",
    "for i in range(1,9):\n",
    "    result=result*i\n",
    "print (result)\n",
    "\n",
    "scnd_result = 1\n",
    "for i in range(1,4):\n",
    "    scnd_result=scnd_result*i\n",
    "print (scnd_result)\n",
    "\n",
    "print (result/scnd_result)"
   ]
  },
  {
   "cell_type": "markdown",
   "metadata": {},
   "source": [
    "## q4 easier solution"
   ]
  },
  {
   "cell_type": "code",
   "execution_count": 5,
   "metadata": {},
   "outputs": [
    {
     "name": "stdout",
     "output_type": "stream",
     "text": [
      "6720\n"
     ]
    }
   ],
   "source": [
    "result = 1\n",
    "for i in range(4,9):\n",
    "    result=result*i\n",
    "print (result)"
   ]
  },
  {
   "cell_type": "markdown",
   "metadata": {},
   "source": [
    "## q5"
   ]
  },
  {
   "cell_type": "code",
   "execution_count": 6,
   "metadata": {},
   "outputs": [
    {
     "name": "stdout",
     "output_type": "stream",
     "text": [
      "0\n",
      "1\n",
      "2\n",
      "4\n",
      "5\n"
     ]
    }
   ],
   "source": [
    "for i in range (6):\n",
    "    if i ==3:\n",
    "        continue\n",
    "    print (i)"
   ]
  },
  {
   "cell_type": "markdown",
   "metadata": {},
   "source": [
    "## q6"
   ]
  },
  {
   "cell_type": "code",
   "execution_count": 7,
   "metadata": {},
   "outputs": [
    {
     "name": "stdout",
     "output_type": "stream",
     "text": [
      "5\n"
     ]
    }
   ],
   "source": [
    "result = 0\n",
    "for word in 'this is my fourth string'.split():\n",
    "#    print (word)\n",
    "    result = result +1\n",
    "print (result)"
   ]
  },
  {
   "cell_type": "markdown",
   "metadata": {},
   "source": [
    "## q7"
   ]
  },
  {
   "cell_type": "code",
   "execution_count": 8,
   "metadata": {},
   "outputs": [
    {
     "name": "stdout",
     "output_type": "stream",
     "text": [
      "[]\n"
     ]
    }
   ],
   "source": [
    "num_list = [12,32,43,35]\n",
    "while num_list:\n",
    "    num_list.remove(num_list[0])\n",
    "print(num_list)"
   ]
  },
  {
   "cell_type": "markdown",
   "metadata": {},
   "source": [
    "## q8"
   ]
  },
  {
   "cell_type": "code",
   "execution_count": 9,
   "metadata": {},
   "outputs": [
    {
     "name": "stdout",
     "output_type": "stream",
     "text": [
      "5\n"
     ]
    }
   ],
   "source": [
    "my_str = 'this is my fourth string'.split()\n",
    "result = 0\n",
    "while (my_str):\n",
    "#    print (my_str)\n",
    "    result = result +1\n",
    "    my_str.remove(my_str[0])\n",
    "print (result)"
   ]
  },
  {
   "cell_type": "markdown",
   "metadata": {},
   "source": [
    "## q9"
   ]
  },
  {
   "cell_type": "code",
   "execution_count": 10,
   "metadata": {},
   "outputs": [],
   "source": [
    "my_tweet = {\"favorite_count\":1138,\n",
    "        \"lang\": \"ch\",\n",
    "        \"coordinates\": (-75.14310264, 40.05701649),\n",
    "        \"entities\":{\n",
    "            \"hashtags\":[\" Preds \", \"Pens\", \" SingIntoSpring \"]}}"
   ]
  },
  {
   "cell_type": "markdown",
   "metadata": {},
   "source": [
    "## q9.1"
   ]
  },
  {
   "cell_type": "code",
   "execution_count": 11,
   "metadata": {},
   "outputs": [
    {
     "name": "stdout",
     "output_type": "stream",
     "text": [
      "[' Preds ', 'Pens', ' SingIntoSpring ']\n",
      "3\n"
     ]
    }
   ],
   "source": [
    "result = 0\n",
    "print (my_tweet['entities']['hashtags'])\n",
    "for word in (my_tweet['entities']['hashtags']):\n",
    "#    print (word)\n",
    "    result = result +1\n",
    "print (result)"
   ]
  },
  {
   "cell_type": "markdown",
   "metadata": {},
   "source": [
    "## q9.2"
   ]
  },
  {
   "cell_type": "code",
   "execution_count": 12,
   "metadata": {},
   "outputs": [
    {
     "name": "stdout",
     "output_type": "stream",
     "text": [
      "[' Preds ', 'Pens', ' SingIntoSpring ']\n",
      "3\n"
     ]
    }
   ],
   "source": [
    "result = 0 \n",
    "print (my_tweet['entities']['hashtags'])\n",
    "while (my_tweet['entities']['hashtags']):\n",
    "#    print (my_tweet['entities']['hashtags'])\n",
    "    result = result +1\n",
    "    (my_tweet['entities']['hashtags'].remove((my_tweet['entities']['hashtags'])[0]))\n",
    "print (result)"
   ]
  },
  {
   "cell_type": "markdown",
   "metadata": {},
   "source": [
    "## q10"
   ]
  },
  {
   "cell_type": "code",
   "execution_count": 7,
   "metadata": {},
   "outputs": [
    {
     "name": "stdout",
     "output_type": "stream",
     "text": [
      "43\n",
      "12\n"
     ]
    }
   ],
   "source": [
    "num_list = [12,32,43,35]\n",
    "max_item = num_list[0]\n",
    "for current_item in num_list:\n",
    "    if max_item<current_item:\n",
    "        max_item=current_item\n",
    "print (max_item)\n",
    "\n",
    "min_item = num_list[0]\n",
    "for current_item in num_list:\n",
    "    if min_item>current_item:\n",
    "        min_item=current_item\n",
    "print (min_item)"
   ]
  }
 ],
 "metadata": {
  "kernelspec": {
   "display_name": "Python 3",
   "language": "python",
   "name": "python3"
  },
  "language_info": {
   "codemirror_mode": {
    "name": "ipython",
    "version": 3
   },
   "file_extension": ".py",
   "mimetype": "text/x-python",
   "name": "python",
   "nbconvert_exporter": "python",
   "pygments_lexer": "ipython3",
   "version": "3.6.5"
  }
 },
 "nbformat": 4,
 "nbformat_minor": 2
}
