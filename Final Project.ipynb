{
 "cells": [
  {
   "cell_type": "markdown",
   "metadata": {},
   "source": [
    "# Final Project"
   ]
  },
  {
   "cell_type": "markdown",
   "metadata": {},
   "source": [
    "## Introduction to Project"
   ]
  },
  {
   "cell_type": "markdown",
   "metadata": {},
   "source": [
    "As prospective entrants into careers in intelligence analysis, it is important for us to understand the requirements of the jobs that we will be applying to. The field of intelligence analysis is both varied in the requirements depending on the organization and role that the job is in, yet also has prerequisites that can be found across the entire field. The purpose of this project is to determine key similarities and differences between pertinent sections of intelligence analyst job postings using the skills learned in Python throughout this course.\n"
   ]
  },
  {
   "cell_type": "markdown",
   "metadata": {},
   "source": [
    " Excel File:\n",
    " <a href= 'jobs.xlsx'>data</a>"
   ]
  },
  {
   "cell_type": "code",
   "execution_count": 4,
   "metadata": {},
   "outputs": [],
   "source": [
    "import xlrd"
   ]
  },
  {
   "cell_type": "code",
   "execution_count": 5,
   "metadata": {},
   "outputs": [],
   "source": [
    "book = xlrd.open_workbook('jobs.xlsx')\n",
    "sheet = book.sheet_by_name(\"jobs\")"
   ]
  },
  {
   "cell_type": "code",
   "execution_count": 6,
   "metadata": {},
   "outputs": [
    {
     "name": "stdout",
     "output_type": "stream",
     "text": [
      "['Political Analyst', 'Cyber Security Analyst', 'Business Intelligence Analyst', 'Risk Management Analyst', 'Business Intelligence Analyst II', 'Intelligence Research Specialist', 'Information Technology Analyst', 'Supply Chain Intelligence Analyst', 'Business Intelligence Analyst', 'Business Intelligence Analyst', 'Business Intelligence Analyst I', 'Director, Business Intelligence', 'Intelligence Research Analyst - Mid Level Financial Crimes', 'Junior Cyber Security Analyst', 'Analyst', 'Operations Center Analyst - Entry Level', 'Analyst', 'HIDTA Intelligence Analyst - STING', 'Mid Level Security Specialist', 'Intelligence/Policy Analyst']\n",
      "['CIA', 'CACI International', 'US News & World Report ,L.P.', 'ManTech', 'Navy Federal Credit Union', 'Department of Treasury', 'Favor TechConsulting', 'The Buffalo Group', 'Zolon Tech Solutions Inc', 'Vintin', 'Navy Federal Credit Union', 'Deltek', 'BAE Systems', 'ManTech', 'Ntrepid', 'Entegra Systems', 'Cowan & Associates', 'George Mason University', 'ManTech', 'SAIC']\n",
      "[43435.0, 43435.0, 43470.0, 43494.0, 43501.0, 43502.0, 43506.0, 43545.0, 43546.0, 43549.0, 43549.0, 43552.0, 43556.0, 43558.0, 43560.0, 43564.0, 43565.0, 43566.0, 43566.0, 43568.0]\n",
      "['Washington, D. C.', 'Washington, D. C.', 'Washington, D. C.', 'Herndon, VA', 'Merrifield, VA', 'Washington, D. C.', 'Reston, VA', 'Washington, D. C.', 'Washington, D. C.', 'Alexandria, VA', 'Merrifield, VA', 'Herndon, VA', 'Washington, D. C.', 'Chantilly, VA', 'Herndon, VA', 'McLean, VA', 'Arlington, VA', 'Washington, D. C.', 'Fort Belvoir, vA', 'Arlington, VA']\n",
      "[54308.0, 69000.0, 87000.0, 64000.0, 74000.0, 99172.0, 59000.0, 57000.0, 84000.0, 90000.0, 86000.0, 110000.0, 45000.0, 54000.0, 46000.0, 76000.0, 57000.0, 50000.0, 52000.0, 63000.0]\n",
      "['Support policymakers by producing and delivering written and oral assessments of the domestic politics, foreign policy, stability, and social issues of foreign governments and entities', 'Support cyber analysis for the Navy Shipboard Gun Weapon System GWS, Conduct all document preparation for the six step RMF process', 'Use Data to drive good business decisions and maximize revenue opportunities, Use web analytics tools to gather data, analyze it, and develop actionable insights and recommendations', 'Develop and deliver client products, such as communications documentation, artifacts,analyses, and recommendations, Integrate risk analysis information with broader business case development efforts', 'To provide actionable business intelligence in consultation with management and business units for use in daily and strategic decision making. Apply industry best practices and standards to create optimum solutions that improve business performance, Conduct analytical studies to provide results/recommendations to senior management for department and enterprise-wide strategic initiatives', 'Serve as an Intelligence Research Specialist in the Office of Intelligence and Analysis (OIA)', 'Provide business systems analysis services support for the Office of the Chief Financial Officer (CFO), Assess systems and improve business domain processes for the CFO Resources Center business model and its integration with modernized technologies', 'Determine the credibility, value, significance, and relevancy of information from various data sources to create clear, concise, analytical products to meet customer requests in a timely manner, Present findings to leadership and senior executives in attendance of internal/external meetings with the ability to explain complex information', 'Serves as technical team leader in the development of business intelligence solutions and other reports and analysis across all divisions of the organization, Writes complex SQL scripts to extract data from various databases and systems to make data available for enterprise reporting', 'Directly supporting the Deputy Commandant for Programs & Resources, Headquarters United States Marine Corps, analyzing aggregated data; providing visualizations of data sets to enable key-stakeholder decision making; and developing key assessment reports of client processes and frameworks', 'Manage projects from concept through planning, design, testing, and implementation phases, Identify and assess business strategies and opportunities; develop analytical approaches', 'Develop strong relationships and partner with business and IT stakeholders at all levels of the organization to transform how Deltek uses data and analytics to achieve our goals, Educate and influence senior executives, peers and team members on needed improvements (build the case for change) and describe how we can achieve them', 'Intelligence Researchers will be responsible for the research, analysis and dissemination will require using Bank Secrecy Act filings, supporting documentation, open sources, and other Government-provided data sources, including, but not limited to, law enforcement information, commercial databases, and classified systems', 'Assists with providing detection, identification, and reporting of possible cyber-attacks/intrusions, anomalous activities, and misuse activities, Assists with performing security event and incident correlation using information gathered from a variety of sources within the enterprise', 'Conduct independent, detailed research and analysis on client and corporate-driven initiatives and develop professional-level written products, Evaluate new technologies that could improve our products and better address customer needs, and use insights to develop new capabilities', 'Constant monitoring of multiple channels of classified and open source media for US-related threats on a worldwide basis, Drafting situation reports, preparation and presentation of briefing materials', 'To provide services are in the following areas: Executive Level Support, Special Studies, Strategic Planning and Analyses, High-level Briefings, Analytical Support, Operational and Technical Assessment Support, Programmatic Analysis Support, Data Collection, Process Research, Requirements/Capability Development & Analysis, Database Management, Planning, Policy Development, Oversight, Governance, and Assessment', 'Participate in all steps of the intelligence cycle: Planning and directing, collecting information, processing and collating information, analyzing, producing and disseminating intelligence to help attain the mission of the W/B HIDTA', 'Provide all facets of program security management in support of SAP initiatives to include; OPSEC, personnel, physical, information, industrial, and direct warfighter support, Provide SAP security administration and management to program elements. Conduct security oversight inspections. Ensure facility compliance with all policies and directives', 'Perform general AO duties such as working Task Management Tool (TMT) tasks, preparing and/or reviewing Bullet Background Papers (BBPs), answering Senior Leader & Congressional inquiries; facilitating external personnel visits to the Pentagon; coordinate VTCs/telecons/meetings for both internal & external discussions']\n",
      "['Deep regional or functional expertise including travel or residency in the region, Can obtain security clearance', 'CISSP, CASP, Can obtain security clearance', 'Experience using web analytics tools such as Adobe Analytics, mpulse, and Google Ad Manager, Strong Excel skills (comfortable with using pivot tables, index match, Vlookups, etc.), Experience with a tag manager (Tealium), Can obtain security clearance', 'Experience with MS Office, MS Visio, MS Project (user), MS SharePoint, and MS Outlook, thorough understanding of risk management and business case analysis methodologies, Can obtain security clearance', 'Extensive experience in the application of statistical methods, mathematical techniques, forecasting, cost-benefit analysis and related analytical tools, Expert skill interpreting, extrapolating and interpolating data for statistical research and modeling, Extensive experience in problem resolution including determining root cause, scope and scale of issues, Can obtain security clearance', 'Composing and briefing all-source intelligence or other analytical assessments on cyber threat topics, Creating finished intelligence or other intelligence-based analytical assessments and delivering briefings on cyber threat topics, Can obtain security clearance', 'Modernize and migrate DIA programs through change management to implement improved business systems, processes, best practices, and lessons learned from other agencies in the performance of similar efforts, Perform research, analysis and compliance findings of business systems and processes with audit requirements, Can obtain security clearance', 'Excellent writing, verbal, and communication skills, Knowledge of the dynamics of military and regime leadership, national military strategy, terrorism, strategic doctrine, regional relations, internal and regional stability and security, Can obtain security clearance', 'Evaluate, test and implement new or upgraded software bull Troubleshoot reported problems pertaining to reports and the reporting database environment, working closely with other IT members, especially DBAs, bull Systems Analysts and Systems Engineers, identifying the cause and designing or developing an approach for resolution, Can obtain security clearance', 'Ability to work independently in a fast paced, high visibility program office while balancing multiple workstreams, Experience with BI tools such as Excel, Tableau, or MS Power BI, Experience employing Business Process Model Narratives/Notation (BPMN) to define business processes and associated information and data flows, Can obtain security clearance', 'Advanced Degree in a quantitative and/or business field, or the equivalent combination of training, education and experience, Expert digital analytics skills, especially utilizing Adobe Analytics - Adobe Target & Adobe Launch a plus, Can obtain security clearance', 'Demonstrated expertise in business intelligence solutions and data warehousing, and a passion for delivering solutions that enable us to harness the value of data, Experience with a wide variety of BI technologies (e.g., Qlik, Cognos, MS SQL server, MS SSIS), Can obtain security clearance', 'Experience with data retrieval strategies and mining. Experience with collecting, analyzing, and interpreting qualitative and quantitative data from multiple sources, Ability to write high-quality intelligence products (that would be typical of the intelligence community) and briefings for a senior-level audience. Ability to concisely write about technical topics for non-technical audiences, Can obtain security clearance', 'Experience working in a Cybersecurity Operations Center environment desired, Experience with COTS technologies used in a Cybersecurity Operations Center environment desired, Can obtain security clearance', 'Excellent research, writing and analytical skills; writing sample is required, Ability to develop research ideas into viable proofs of concept or into reports and briefings with practical takeaways for clients, Can obtain security clearance', 'Experience in operational or analytic in intelligence community, military, or law enforcement fields and a Bachelor’s degree in a related field is desired, Candidates must have familiarity with a variety of intelligence community databases, networks, and environments, Can obtain security clearance', 'Experience in capability definition and operation of IT, space systems, Command, Control, Communications, Computers, Intelligence, Surveillance, and Reconnaissance (C4ISR) systems and/or unmanned systems, Proficiency with Microsoft products including Project, Word, PowerPoint, and Excel, Can obtain security clearance', 'Ability to research a voluminous amount of data in order to find information on individuals utilizing very little previous information on the subject, Ability to learn complex software and databases, Can obtain security clearance', 'Capable of developing and implementing a specific security task area or specialty in support of a Special Access Program (SAP), Ability and willingness to travel to support customer activities is mandatory, Can obtain security clearance', 'SME-level experience with USAF ISR enterprise capabilities and issues, Background in capability development to include machine learning/artificial intelligence and operational data areas (standards, object based production, DevOps, etc.), Can obtain security clearance']\n",
      "[4.0, 7.0, 2.0, 2.0, 4.0, 2.0, 5.0, 8.0, 5.0, 10.0, 4.0, 10.0, 5.0, 2.0, 1.0, 2.0, 5.0, 2.0, 3.0, 10.0]\n",
      "[\"Bachelor's\", \"Bachelor's\", \"Bachelor's\", \"Bachelor's\", \"Master's\", \"Bachelor's\", \"Bachelor's\", \"Bachelor's\", \"Master's\", \"Bachelor's\", \"Bachelor's\", \"Bachelor's\", \"Bachelor's\", \"Bachelor's\", \"Bachelor's\", \"Bachelor's\", \"Bachelor's\", \"Bachelor's\", \"Bachelor's\", \"Master's\"]\n"
     ]
    }
   ],
   "source": [
    "titles_list = []\n",
    "company_list = []\n",
    "posted_list = []\n",
    "location_list = []\n",
    "salary_list = []\n",
    "duty_list = []\n",
    "skills_list = []\n",
    "experience_list = []\n",
    "education_list = []\n",
    "\n",
    "for i in range(sheet.nrows):\n",
    "    titles,company,posted,location,salary,duty,skills,experience,education,url = sheet.row_values(i)\n",
    "    if i !=0:\n",
    "\n",
    "        titles_list.append(titles)\n",
    "        company_list.append(company)\n",
    "        posted_list.append(posted)\n",
    "        location_list.append(location)\n",
    "        salary_list.append(salary)\n",
    "        duty_list.append(duty)\n",
    "        skills_list.append(skills)\n",
    "        experience_list.append(experience)\n",
    "        education_list.append(education)\n",
    "print(titles_list)\n",
    "print(company_list)\n",
    "print(posted_list)\n",
    "print(location_list)\n",
    "print(salary_list)\n",
    "print(duty_list)\n",
    "print(skills_list)\n",
    "print(experience_list)\n",
    "print(education_list)"
   ]
  },
  {
   "cell_type": "code",
   "execution_count": 139,
   "metadata": {},
   "outputs": [
    {
     "data": {
      "text/html": [
       "<div>\n",
       "<style scoped>\n",
       "    .dataframe tbody tr th:only-of-type {\n",
       "        vertical-align: middle;\n",
       "    }\n",
       "\n",
       "    .dataframe tbody tr th {\n",
       "        vertical-align: top;\n",
       "    }\n",
       "\n",
       "    .dataframe thead th {\n",
       "        text-align: right;\n",
       "    }\n",
       "</style>\n",
       "<table border=\"1\" class=\"dataframe\">\n",
       "  <thead>\n",
       "    <tr style=\"text-align: right;\">\n",
       "      <th></th>\n",
       "      <th>Job Title</th>\n",
       "      <th>Company</th>\n",
       "      <th>Posted Date</th>\n",
       "      <th>Job Location</th>\n",
       "      <th>Minimal Salary</th>\n",
       "      <th>Job Duty</th>\n",
       "      <th>Required Skills</th>\n",
       "      <th>Years of Experience</th>\n",
       "      <th>Minimal Education</th>\n",
       "      <th>URL</th>\n",
       "    </tr>\n",
       "  </thead>\n",
       "  <tbody>\n",
       "    <tr>\n",
       "      <th>0</th>\n",
       "      <td>Political Analyst</td>\n",
       "      <td>CIA</td>\n",
       "      <td>2018-12-01</td>\n",
       "      <td>Washington, D. C.</td>\n",
       "      <td>54308</td>\n",
       "      <td>Support policymakers by producing and deliveri...</td>\n",
       "      <td>Deep regional or functional expertise includin...</td>\n",
       "      <td>4</td>\n",
       "      <td>Bachelor's</td>\n",
       "      <td>https://www.indeed.com/viewjob?jk=91e1469788f4...</td>\n",
       "    </tr>\n",
       "    <tr>\n",
       "      <th>1</th>\n",
       "      <td>Intelligence Research Specialist</td>\n",
       "      <td>Department of Treasury</td>\n",
       "      <td>2019-02-06</td>\n",
       "      <td>Washington, D. C.</td>\n",
       "      <td>99172</td>\n",
       "      <td>Serve as an Intelligence Research Specialist i...</td>\n",
       "      <td>Composing and briefing all-source intelligence...</td>\n",
       "      <td>2</td>\n",
       "      <td>Bachelor's</td>\n",
       "      <td>https://www.indeed.com/viewjob?jk=b1d555ee0dd4...</td>\n",
       "    </tr>\n",
       "    <tr>\n",
       "      <th>2</th>\n",
       "      <td>HIDTA Intelligence Analyst - STING</td>\n",
       "      <td>George Mason University</td>\n",
       "      <td>2019-04-11</td>\n",
       "      <td>Washington, D. C.</td>\n",
       "      <td>50000</td>\n",
       "      <td>Participate in all steps of the intelligence c...</td>\n",
       "      <td>Ability to research a voluminous amount of dat...</td>\n",
       "      <td>2</td>\n",
       "      <td>Bachelor's</td>\n",
       "      <td>https://www.indeed.com/viewjob?jk=16f69a225271...</td>\n",
       "    </tr>\n",
       "    <tr>\n",
       "      <th>3</th>\n",
       "      <td>Business Intelligence Analyst I</td>\n",
       "      <td>Navy Federal Credit Union</td>\n",
       "      <td>2019-03-25</td>\n",
       "      <td>Merrifield, VA</td>\n",
       "      <td>86000</td>\n",
       "      <td>Manage projects from concept through planning,...</td>\n",
       "      <td>Advanced Degree in a quantitative and/or busin...</td>\n",
       "      <td>4</td>\n",
       "      <td>Bachelor's</td>\n",
       "      <td>https://www.glassdoor.com/job-listing/business...</td>\n",
       "    </tr>\n",
       "    <tr>\n",
       "      <th>4</th>\n",
       "      <td>Analyst</td>\n",
       "      <td>Ntrepid</td>\n",
       "      <td>2019-04-05</td>\n",
       "      <td>Herndon, VA</td>\n",
       "      <td>46000</td>\n",
       "      <td>Conduct independent, detailed research and ana...</td>\n",
       "      <td>Excellent research, writing and analytical ski...</td>\n",
       "      <td>1</td>\n",
       "      <td>Bachelor's</td>\n",
       "      <td>https://www.glassdoor.com/job-listing/analyst-...</td>\n",
       "    </tr>\n",
       "    <tr>\n",
       "      <th>5</th>\n",
       "      <td>Operations Center Analyst - Entry Level</td>\n",
       "      <td>Entegra Systems</td>\n",
       "      <td>2019-04-09</td>\n",
       "      <td>McLean, VA</td>\n",
       "      <td>76000</td>\n",
       "      <td>Constant monitoring of multiple channels of cl...</td>\n",
       "      <td>Experience in operational or analytic in intel...</td>\n",
       "      <td>2</td>\n",
       "      <td>Bachelor's</td>\n",
       "      <td>https://www.glassdoor.com/job-listing/operatio...</td>\n",
       "    </tr>\n",
       "    <tr>\n",
       "      <th>6</th>\n",
       "      <td>Supply Chain Intelligence Analyst</td>\n",
       "      <td>The Buffalo Group</td>\n",
       "      <td>2019-03-21</td>\n",
       "      <td>Washington, D. C.</td>\n",
       "      <td>57000</td>\n",
       "      <td>Determine the credibility, value, significance...</td>\n",
       "      <td>Excellent writing, verbal, and communication s...</td>\n",
       "      <td>8</td>\n",
       "      <td>Bachelor's</td>\n",
       "      <td>https://www.glassdoor.com/job-listing/supply-c...</td>\n",
       "    </tr>\n",
       "    <tr>\n",
       "      <th>7</th>\n",
       "      <td>Mid Level Security Specialist</td>\n",
       "      <td>ManTech</td>\n",
       "      <td>2019-04-11</td>\n",
       "      <td>Fort Belvoir, vA</td>\n",
       "      <td>52000</td>\n",
       "      <td>Provide all facets of program security managem...</td>\n",
       "      <td>Capable of developing and implementing a speci...</td>\n",
       "      <td>3</td>\n",
       "      <td>Bachelor's</td>\n",
       "      <td>https://www.glassdoor.com/job-listing/mid-leve...</td>\n",
       "    </tr>\n",
       "    <tr>\n",
       "      <th>8</th>\n",
       "      <td>Junior Cyber Security Analyst</td>\n",
       "      <td>ManTech</td>\n",
       "      <td>2019-04-03</td>\n",
       "      <td>Chantilly, VA</td>\n",
       "      <td>54000</td>\n",
       "      <td>Assists with providing detection, identificati...</td>\n",
       "      <td>Experience working in a Cybersecurity Operatio...</td>\n",
       "      <td>2</td>\n",
       "      <td>Bachelor's</td>\n",
       "      <td>https://www.glassdoor.com/job-listing/junior-c...</td>\n",
       "    </tr>\n",
       "    <tr>\n",
       "      <th>9</th>\n",
       "      <td>Intelligence/Policy Analyst</td>\n",
       "      <td>SAIC</td>\n",
       "      <td>2019-04-13</td>\n",
       "      <td>Arlington, VA</td>\n",
       "      <td>63000</td>\n",
       "      <td>Perform general AO duties such as working Task...</td>\n",
       "      <td>SME-level experience with USAF ISR enterprise ...</td>\n",
       "      <td>10</td>\n",
       "      <td>Master's</td>\n",
       "      <td>https://www.glassdoor.com/job-listing/intellig...</td>\n",
       "    </tr>\n",
       "    <tr>\n",
       "      <th>10</th>\n",
       "      <td>Information Technology Analyst</td>\n",
       "      <td>Favor TechConsulting</td>\n",
       "      <td>2019-02-10</td>\n",
       "      <td>Reston, VA</td>\n",
       "      <td>59000</td>\n",
       "      <td>Provide business systems analysis services sup...</td>\n",
       "      <td>Modernize and migrate DIA programs through cha...</td>\n",
       "      <td>5</td>\n",
       "      <td>Bachelor's</td>\n",
       "      <td>https://www.glassdoor.com/job-listing/informat...</td>\n",
       "    </tr>\n",
       "    <tr>\n",
       "      <th>11</th>\n",
       "      <td>Business Intelligence Analyst II</td>\n",
       "      <td>Navy Federal Credit Union</td>\n",
       "      <td>2019-02-05</td>\n",
       "      <td>Merrifield, VA</td>\n",
       "      <td>74000</td>\n",
       "      <td>To provide actionable business intelligence in...</td>\n",
       "      <td>Extensive experience in the application of sta...</td>\n",
       "      <td>4</td>\n",
       "      <td>Master's</td>\n",
       "      <td>https://www.glassdoor.com/job-listing/business...</td>\n",
       "    </tr>\n",
       "    <tr>\n",
       "      <th>12</th>\n",
       "      <td>Analyst</td>\n",
       "      <td>Cowan &amp; Associates</td>\n",
       "      <td>2019-04-10</td>\n",
       "      <td>Arlington, VA</td>\n",
       "      <td>57000</td>\n",
       "      <td>To provide services are in the following areas...</td>\n",
       "      <td>Experience in capability definition and operat...</td>\n",
       "      <td>5</td>\n",
       "      <td>Bachelor's</td>\n",
       "      <td>https://www.glassdoor.com/job-listing/analyst-...</td>\n",
       "    </tr>\n",
       "    <tr>\n",
       "      <th>13</th>\n",
       "      <td>Director, Business Intelligence</td>\n",
       "      <td>Deltek</td>\n",
       "      <td>2019-03-28</td>\n",
       "      <td>Herndon, VA</td>\n",
       "      <td>110000</td>\n",
       "      <td>Develop strong relationships and partner with ...</td>\n",
       "      <td>Demonstrated expertise in business intelligenc...</td>\n",
       "      <td>10</td>\n",
       "      <td>Bachelor's</td>\n",
       "      <td>https://www.glassdoor.com/job-listing/director...</td>\n",
       "    </tr>\n",
       "    <tr>\n",
       "      <th>14</th>\n",
       "      <td>Business Intelligence Analyst</td>\n",
       "      <td>Zolon Tech Solutions Inc</td>\n",
       "      <td>2019-03-22</td>\n",
       "      <td>Washington, D. C.</td>\n",
       "      <td>84000</td>\n",
       "      <td>Serves as technical team leader in the develop...</td>\n",
       "      <td>Evaluate, test and implement new or upgraded s...</td>\n",
       "      <td>5</td>\n",
       "      <td>Master's</td>\n",
       "      <td>https://www.glassdoor.com/job-listing/business...</td>\n",
       "    </tr>\n",
       "    <tr>\n",
       "      <th>15</th>\n",
       "      <td>Business Intelligence Analyst</td>\n",
       "      <td>Vintin</td>\n",
       "      <td>2019-03-23</td>\n",
       "      <td>Alexandria, VA</td>\n",
       "      <td>90000</td>\n",
       "      <td>Directly supporting the Deputy Commandant for ...</td>\n",
       "      <td>Ability to work independently in a fast paced,...</td>\n",
       "      <td>10</td>\n",
       "      <td>Bachelor's</td>\n",
       "      <td>https://www.glassdoor.com/job-listing/business...</td>\n",
       "    </tr>\n",
       "    <tr>\n",
       "      <th>16</th>\n",
       "      <td>Intelligence Research Analyst - Mid Level Fina...</td>\n",
       "      <td>BAE Systems</td>\n",
       "      <td>2019-04-01</td>\n",
       "      <td>Washington, D. C.</td>\n",
       "      <td>45000</td>\n",
       "      <td>Intelligence Researchers will be responsible f...</td>\n",
       "      <td>Experience with data retrieval strategies and ...</td>\n",
       "      <td>5</td>\n",
       "      <td>Bachelor's</td>\n",
       "      <td>https://www.glassdoor.com/job-listing/intellig...</td>\n",
       "    </tr>\n",
       "    <tr>\n",
       "      <th>17</th>\n",
       "      <td>Cyber Security Analyst</td>\n",
       "      <td>CACI International</td>\n",
       "      <td>2019-12-31</td>\n",
       "      <td>Washington, D. C.</td>\n",
       "      <td>69000</td>\n",
       "      <td>Support cyber analysis for the Navy Shipboard ...</td>\n",
       "      <td>CISSP, CASP, Can obtain security clearance</td>\n",
       "      <td>7</td>\n",
       "      <td>Bachelor's</td>\n",
       "      <td>https://www.glassdoor.com/job-listing/cyber-se...</td>\n",
       "    </tr>\n",
       "    <tr>\n",
       "      <th>18</th>\n",
       "      <td>Business Intelligence Analyst</td>\n",
       "      <td>US News &amp; World Report ,L.P.</td>\n",
       "      <td>2019-01-05</td>\n",
       "      <td>Washington, D. C.</td>\n",
       "      <td>87000</td>\n",
       "      <td>Use Data to drive good business decisions and ...</td>\n",
       "      <td>Experience using web analytics tools such as A...</td>\n",
       "      <td>2</td>\n",
       "      <td>Bachelor's</td>\n",
       "      <td>https://www.glassdoor.com/job-listing/business...</td>\n",
       "    </tr>\n",
       "    <tr>\n",
       "      <th>19</th>\n",
       "      <td>Risk Management Analyst</td>\n",
       "      <td>ManTech</td>\n",
       "      <td>2019-01-29</td>\n",
       "      <td>Herndon, VA</td>\n",
       "      <td>64000</td>\n",
       "      <td>Develop and deliver client products, such as c...</td>\n",
       "      <td>Experience with MS Office, MS Visio, MS Projec...</td>\n",
       "      <td>2</td>\n",
       "      <td>Bachelor's</td>\n",
       "      <td>https://www.glassdoor.com/job-listing/risk-man...</td>\n",
       "    </tr>\n",
       "  </tbody>\n",
       "</table>\n",
       "</div>"
      ],
      "text/plain": [
       "                                            Job Title  \\\n",
       "0                                   Political Analyst   \n",
       "1                    Intelligence Research Specialist   \n",
       "2                  HIDTA Intelligence Analyst - STING   \n",
       "3                     Business Intelligence Analyst I   \n",
       "4                                             Analyst   \n",
       "5             Operations Center Analyst - Entry Level   \n",
       "6                   Supply Chain Intelligence Analyst   \n",
       "7                       Mid Level Security Specialist   \n",
       "8                       Junior Cyber Security Analyst   \n",
       "9                         Intelligence/Policy Analyst   \n",
       "10                     Information Technology Analyst   \n",
       "11                   Business Intelligence Analyst II   \n",
       "12                                            Analyst   \n",
       "13                    Director, Business Intelligence   \n",
       "14                      Business Intelligence Analyst   \n",
       "15                      Business Intelligence Analyst   \n",
       "16  Intelligence Research Analyst - Mid Level Fina...   \n",
       "17                             Cyber Security Analyst   \n",
       "18                      Business Intelligence Analyst   \n",
       "19                            Risk Management Analyst   \n",
       "\n",
       "                         Company Posted Date       Job Location  \\\n",
       "0                            CIA  2018-12-01  Washington, D. C.   \n",
       "1         Department of Treasury  2019-02-06  Washington, D. C.   \n",
       "2        George Mason University  2019-04-11  Washington, D. C.   \n",
       "3      Navy Federal Credit Union  2019-03-25     Merrifield, VA   \n",
       "4                        Ntrepid  2019-04-05        Herndon, VA   \n",
       "5                Entegra Systems  2019-04-09         McLean, VA   \n",
       "6              The Buffalo Group  2019-03-21  Washington, D. C.   \n",
       "7                        ManTech  2019-04-11   Fort Belvoir, vA   \n",
       "8                        ManTech  2019-04-03      Chantilly, VA   \n",
       "9                           SAIC  2019-04-13      Arlington, VA   \n",
       "10          Favor TechConsulting  2019-02-10         Reston, VA   \n",
       "11     Navy Federal Credit Union  2019-02-05     Merrifield, VA   \n",
       "12            Cowan & Associates  2019-04-10      Arlington, VA   \n",
       "13                        Deltek  2019-03-28        Herndon, VA   \n",
       "14      Zolon Tech Solutions Inc  2019-03-22  Washington, D. C.   \n",
       "15                        Vintin  2019-03-23     Alexandria, VA   \n",
       "16                   BAE Systems  2019-04-01  Washington, D. C.   \n",
       "17            CACI International  2019-12-31  Washington, D. C.   \n",
       "18  US News & World Report ,L.P.  2019-01-05  Washington, D. C.   \n",
       "19                       ManTech  2019-01-29        Herndon, VA   \n",
       "\n",
       "    Minimal Salary                                          Job Duty   \\\n",
       "0            54308  Support policymakers by producing and deliveri...   \n",
       "1            99172  Serve as an Intelligence Research Specialist i...   \n",
       "2            50000  Participate in all steps of the intelligence c...   \n",
       "3            86000  Manage projects from concept through planning,...   \n",
       "4            46000  Conduct independent, detailed research and ana...   \n",
       "5            76000  Constant monitoring of multiple channels of cl...   \n",
       "6            57000  Determine the credibility, value, significance...   \n",
       "7            52000  Provide all facets of program security managem...   \n",
       "8            54000  Assists with providing detection, identificati...   \n",
       "9            63000  Perform general AO duties such as working Task...   \n",
       "10           59000  Provide business systems analysis services sup...   \n",
       "11           74000  To provide actionable business intelligence in...   \n",
       "12           57000  To provide services are in the following areas...   \n",
       "13          110000  Develop strong relationships and partner with ...   \n",
       "14           84000  Serves as technical team leader in the develop...   \n",
       "15           90000  Directly supporting the Deputy Commandant for ...   \n",
       "16           45000  Intelligence Researchers will be responsible f...   \n",
       "17           69000  Support cyber analysis for the Navy Shipboard ...   \n",
       "18           87000  Use Data to drive good business decisions and ...   \n",
       "19           64000  Develop and deliver client products, such as c...   \n",
       "\n",
       "                                      Required Skills  Years of Experience  \\\n",
       "0   Deep regional or functional expertise includin...                    4   \n",
       "1   Composing and briefing all-source intelligence...                    2   \n",
       "2   Ability to research a voluminous amount of dat...                    2   \n",
       "3   Advanced Degree in a quantitative and/or busin...                    4   \n",
       "4   Excellent research, writing and analytical ski...                    1   \n",
       "5   Experience in operational or analytic in intel...                    2   \n",
       "6   Excellent writing, verbal, and communication s...                    8   \n",
       "7   Capable of developing and implementing a speci...                    3   \n",
       "8   Experience working in a Cybersecurity Operatio...                    2   \n",
       "9   SME-level experience with USAF ISR enterprise ...                   10   \n",
       "10  Modernize and migrate DIA programs through cha...                    5   \n",
       "11  Extensive experience in the application of sta...                    4   \n",
       "12  Experience in capability definition and operat...                    5   \n",
       "13  Demonstrated expertise in business intelligenc...                   10   \n",
       "14  Evaluate, test and implement new or upgraded s...                    5   \n",
       "15  Ability to work independently in a fast paced,...                   10   \n",
       "16  Experience with data retrieval strategies and ...                    5   \n",
       "17         CISSP, CASP, Can obtain security clearance                    7   \n",
       "18  Experience using web analytics tools such as A...                    2   \n",
       "19  Experience with MS Office, MS Visio, MS Projec...                    2   \n",
       "\n",
       "   Minimal Education                                                URL  \n",
       "0         Bachelor's  https://www.indeed.com/viewjob?jk=91e1469788f4...  \n",
       "1         Bachelor's  https://www.indeed.com/viewjob?jk=b1d555ee0dd4...  \n",
       "2         Bachelor's  https://www.indeed.com/viewjob?jk=16f69a225271...  \n",
       "3         Bachelor's  https://www.glassdoor.com/job-listing/business...  \n",
       "4         Bachelor's  https://www.glassdoor.com/job-listing/analyst-...  \n",
       "5         Bachelor's  https://www.glassdoor.com/job-listing/operatio...  \n",
       "6         Bachelor's  https://www.glassdoor.com/job-listing/supply-c...  \n",
       "7         Bachelor's  https://www.glassdoor.com/job-listing/mid-leve...  \n",
       "8         Bachelor's  https://www.glassdoor.com/job-listing/junior-c...  \n",
       "9           Master's  https://www.glassdoor.com/job-listing/intellig...  \n",
       "10        Bachelor's  https://www.glassdoor.com/job-listing/informat...  \n",
       "11          Master's  https://www.glassdoor.com/job-listing/business...  \n",
       "12        Bachelor's  https://www.glassdoor.com/job-listing/analyst-...  \n",
       "13        Bachelor's  https://www.glassdoor.com/job-listing/director...  \n",
       "14          Master's  https://www.glassdoor.com/job-listing/business...  \n",
       "15        Bachelor's  https://www.glassdoor.com/job-listing/business...  \n",
       "16        Bachelor's  https://www.glassdoor.com/job-listing/intellig...  \n",
       "17        Bachelor's  https://www.glassdoor.com/job-listing/cyber-se...  \n",
       "18        Bachelor's  https://www.glassdoor.com/job-listing/business...  \n",
       "19        Bachelor's  https://www.glassdoor.com/job-listing/risk-man...  "
      ]
     },
     "execution_count": 139,
     "metadata": {},
     "output_type": "execute_result"
    }
   ],
   "source": [
    "import pandas\n",
    "df = pandas.read_excel ('jobs.xlsx')\n",
    "\n",
    "df [:20]"
   ]
  },
  {
   "cell_type": "markdown",
   "metadata": {},
   "source": [
    "Display of all data in excel file "
   ]
  },
  {
   "cell_type": "markdown",
   "metadata": {},
   "source": [
    "## 2.1 What are the common job titles?"
   ]
  },
  {
   "cell_type": "code",
   "execution_count": 4,
   "metadata": {},
   "outputs": [],
   "source": [
    "import xlwt\n",
    "import xlrd"
   ]
  },
  {
   "cell_type": "code",
   "execution_count": 5,
   "metadata": {},
   "outputs": [
    {
     "name": "stdout",
     "output_type": "stream",
     "text": [
      "Business Intelligence Analyst 3\n",
      "Analyst 2\n",
      "Political Analyst 1\n",
      "Intelligence Research Specialist 1\n",
      "HIDTA Intelligence Analyst - STING 1\n",
      "Business Intelligence Analyst I 1\n",
      "Operations Center Analyst - Entry Level 1\n",
      "Supply Chain Intelligence Analyst 1\n",
      "Mid Level Security Specialist 1\n",
      "Junior Cyber Security Analyst 1\n",
      "Intelligence/Policy Analyst 1\n",
      "Information Technology Analyst 1\n",
      "Business Intelligence Analyst II 1\n",
      "Director, Business Intelligence 1\n",
      "Intelligence Research Analyst - Mid Level Financial Crimes 1\n",
      "Cyber Security Analyst 1\n",
      "Risk Management Analyst 1\n"
     ]
    }
   ],
   "source": [
    "from collections import Counter\n",
    "    \n",
    "count_result= Counter(titles_list)\n",
    "    \n",
    "for word, count in count_result.most_common(20):\n",
    "    print(word,count)"
   ]
  },
  {
   "cell_type": "code",
   "execution_count": 6,
   "metadata": {},
   "outputs": [],
   "source": [
    "book = xlrd.open_workbook('jobs.xlsx')\n",
    "book = xlwt.Workbook()\n",
    "sheet = book.add_sheet('title_count')\n",
    "i = 0\n",
    "sheet.write(0,0,'title')\n",
    "sheet.write(0,1,'count')\n",
    "\n",
    "count_result = Counter(titles_list)\n",
    "    \n",
    "for word, count in count_result.most_common(20):\n",
    "    i = i+1\n",
    "    if i> 0:\n",
    "        sheet.write(i,0,word)\n",
    "        sheet.write(i,1,count)\n",
    "        \n",
    "        \n",
    "book.save('title_word_count.xls')"
   ]
  },
  {
   "cell_type": "markdown",
   "metadata": {},
   "source": [
    "<img src = 'Book1.png'>"
   ]
  },
  {
   "cell_type": "markdown",
   "metadata": {},
   "source": [
    "The word cloud looks chaotic because the jobs listed are all different. \n",
    "\n",
    "The common job titles are “Business Intelligence Analyst” and simply “Analyst.” All other jobs listed were only listed once, while “Business Intelligence Analyst” was listed three times and “Analyst” was listed twice."
   ]
  },
  {
   "cell_type": "markdown",
   "metadata": {},
   "source": [
    "## 2.2 Which company posted the most number of jobs?"
   ]
  },
  {
   "cell_type": "code",
   "execution_count": 7,
   "metadata": {},
   "outputs": [],
   "source": [
    "from collections import Counter"
   ]
  },
  {
   "cell_type": "code",
   "execution_count": 8,
   "metadata": {},
   "outputs": [],
   "source": [
    "%matplotlib inline"
   ]
  },
  {
   "cell_type": "code",
   "execution_count": 9,
   "metadata": {},
   "outputs": [],
   "source": [
    "import matplotlib.pyplot as plt"
   ]
  },
  {
   "cell_type": "code",
   "execution_count": 10,
   "metadata": {},
   "outputs": [
    {
     "name": "stdout",
     "output_type": "stream",
     "text": [
      "CIA 1\n",
      "Department of Treasury 1\n",
      "George Mason University 1\n",
      "Navy Federal Credit Union 2\n",
      "Ntrepid 1\n",
      "Entegra Systems 1\n",
      "The Buffalo Group 1\n",
      "ManTech 3\n",
      "SAIC 1\n",
      "Favor TechConsulting 1\n",
      "Cowan & Associates 1\n",
      "Deltek 1\n",
      "Zolon Tech Solutions Inc 1\n",
      "Vintin 1\n",
      "BAE Systems 1\n",
      "CACI International 1\n",
      "US News & World Report ,L.P. 1\n"
     ]
    }
   ],
   "source": [
    "count_result = Counter(company_list)\n",
    "num_count = []\n",
    "word_count = []\n",
    "for word, count in count_result.items():\n",
    "    print(word,count)\n",
    "    num_count.append(count)\n",
    "    word_count.append(word)"
   ]
  },
  {
   "cell_type": "code",
   "execution_count": 11,
   "metadata": {},
   "outputs": [
    {
     "data": {
      "image/png": "[encoded data removed]",
      "text/plain": [
       "<Figure size 432x288 with 1 Axes>"
      ]
     },
     "metadata": {},
     "output_type": "display_data"
    }
   ],
   "source": [
    "plt.pie(num_count, labels = word_count)\n",
    "plt.show()"
   ]
  },
  {
   "cell_type": "code",
   "execution_count": 12,
   "metadata": {},
   "outputs": [
    {
     "data": {
      "image/png": "[encoded data removed]",
      "text/plain": [
       "<Figure size 432x288 with 1 Axes>"
      ]
     },
     "metadata": {},
     "output_type": "display_data"
    }
   ],
   "source": [
    "plt.barh(word_count,num_count)\n",
    "plt.show()"
   ]
  },
  {
   "cell_type": "markdown",
   "metadata": {},
   "source": [
    "2 graphs provided for clarification\n",
    "\n",
    "ManTech posted the most number of jobs on Indeed and GlassDoor. Navy Federal Credit Union posted the second highest amount of jobs. All other companies and/or agencies posted only one job. ManTech posted three jobs, and Navy Federal Credit Union posted two jobs."
   ]
  },
  {
   "cell_type": "markdown",
   "metadata": {},
   "source": [
    "## 2.3 How do the job posts vary by days?"
   ]
  },
  {
   "cell_type": "code",
   "execution_count": 170,
   "metadata": {},
   "outputs": [
    {
     "name": "stdout",
     "output_type": "stream",
     "text": [
      "0    2018-12-01\n",
      "1    2018-12-01\n",
      "2    2019-01-05\n",
      "3    2019-01-29\n",
      "4    2019-02-05\n",
      "5    2019-02-06\n",
      "6    2019-02-10\n",
      "7    2019-03-21\n",
      "8    2019-03-22\n",
      "9    2019-03-25\n",
      "10   2019-03-25\n",
      "11   2019-03-28\n",
      "12   2019-04-01\n",
      "13   2019-04-03\n",
      "14   2019-04-05\n",
      "15   2019-04-09\n",
      "16   2019-04-10\n",
      "17   2019-04-11\n",
      "18   2019-04-11\n",
      "19   2019-04-13\n",
      "Name: Posted Date, dtype: datetime64[ns]\n"
     ]
    }
   ],
   "source": [
    "import pandas\n",
    "df = pandas.read_excel ('jobs.xlsx')\n",
    "\n",
    "df [:10]\n",
    "\n",
    "listposted = df['Posted Date']\n",
    "print(listposted)"
   ]
  },
  {
   "cell_type": "code",
   "execution_count": 171,
   "metadata": {},
   "outputs": [
    {
     "name": "stdout",
     "output_type": "stream",
     "text": [
      "2018-12-01 00:00:00 2\n",
      "2019-01-05 00:00:00 1\n",
      "2019-01-29 00:00:00 1\n",
      "2019-02-05 00:00:00 1\n",
      "2019-02-06 00:00:00 1\n",
      "2019-02-10 00:00:00 1\n",
      "2019-03-21 00:00:00 1\n",
      "2019-03-22 00:00:00 1\n",
      "2019-03-25 00:00:00 2\n",
      "2019-03-28 00:00:00 1\n",
      "2019-04-01 00:00:00 1\n",
      "2019-04-03 00:00:00 1\n",
      "2019-04-05 00:00:00 1\n",
      "2019-04-09 00:00:00 1\n",
      "2019-04-10 00:00:00 1\n",
      "2019-04-11 00:00:00 2\n",
      "2019-04-13 00:00:00 1\n"
     ]
    }
   ],
   "source": [
    "count_result = Counter(listposted)\n",
    "num1_count = []\n",
    "word1_count = []\n",
    "\n",
    "\n",
    "for word, count in count_result.items():\n",
    "    print(word,count)\n",
    "    num1_count.append(count)\n",
    "    word1_count.append(word)"
   ]
  },
  {
   "cell_type": "code",
   "execution_count": 175,
   "metadata": {},
   "outputs": [
    {
     "data": {
      "image/png": "[encoded data removed]",
      "text/plain": [
       "<Figure size 1080x216 with 1 Axes>"
      ]
     },
     "metadata": {},
     "output_type": "display_data"
    }
   ],
   "source": [
    "from matplotlib.pyplot import figure\n",
    "\n",
    "figure(figsize=(15, 3))\n",
    "\n",
    "plt.plot(word1_count,num1_count)\n",
    "plt.xlabel('Day Posted')\n",
    "plt.ylabel('Number of Jobs')\n",
    "plt.show()"
   ]
  },
  {
   "cell_type": "markdown",
   "metadata": {},
   "source": [
    "The jobs posted ranged from December 2018 through April 2019. Most days only received one job posting, but three dates had two postings. These dates were December 1, 2018; March 25, 2019; and April 11, 2019. "
   ]
  },
  {
   "cell_type": "markdown",
   "metadata": {},
   "source": [
    "## 2.4 Where are the locations of the jobs?"
   ]
  },
  {
   "cell_type": "code",
   "execution_count": null,
   "metadata": {},
   "outputs": [],
   "source": [
    "print(location_list)"
   ]
  },
  {
   "cell_type": "code",
   "execution_count": 15,
   "metadata": {},
   "outputs": [
    {
     "name": "stdout",
     "output_type": "stream",
     "text": [
      "Washington, D. C. 8\n",
      "Merrifield, VA 2\n",
      "Herndon, VA 3\n",
      "McLean, VA 1\n",
      "Fort Belvoir, vA 1\n",
      "Chantilly, VA 1\n",
      "Arlington, VA 2\n",
      "Reston, VA 1\n",
      "Alexandria, VA 1\n"
     ]
    }
   ],
   "source": [
    "count_result = Counter(location_list)\n",
    "num2_count = []\n",
    "word2_count = []\n",
    "for word, count in count_result.items():\n",
    "    print(word,count)\n",
    "    num2_count.append(count)\n",
    "    word2_count.append(word)"
   ]
  },
  {
   "cell_type": "code",
   "execution_count": null,
   "metadata": {},
   "outputs": [],
   "source": [
    "book = xlrd.open_workbook('jobs.xlsx')\n",
    "book = xlwt.Workbook()\n",
    "sheet = book.add_sheet('location_count')\n",
    "i = 0\n",
    "sheet.write(0,0,'location')\n",
    "sheet.write(0,1,'count')\n",
    "\n",
    "count_result = Counter(location_list)\n",
    "    \n",
    "for word, count in count_result.most_common(20):\n",
    "    i = i+1\n",
    "    if i> 0:\n",
    "        sheet.write(i,0,word)\n",
    "        sheet.write(i,1,count)\n",
    "        \n",
    "        \n",
    "book.save('location_word_count.xls')"
   ]
  },
  {
   "cell_type": "markdown",
   "metadata": {},
   "source": [
    "<img src = 'Book4.png'>"
   ]
  },
  {
   "cell_type": "markdown",
   "metadata": {},
   "source": [
    "All locations listed were in Virginia or Washington D.C. Herndon, VA held three jobs; Arlington, VA and Merrifield, VA had two jobs available. Washington D.C. held the most number of available jobs with eight positions."
   ]
  },
  {
   "cell_type": "markdown",
   "metadata": {},
   "source": [
    "## 2.5 What is the average minimal salary?"
   ]
  },
  {
   "cell_type": "code",
   "execution_count": 7,
   "metadata": {},
   "outputs": [
    {
     "name": "stdout",
     "output_type": "stream",
     "text": [
      "[54308.0, 69000.0, 87000.0, 64000.0, 74000.0, 99172.0, 59000.0, 57000.0, 84000.0, 90000.0, 86000.0, 110000.0, 45000.0, 54000.0, 46000.0, 76000.0, 57000.0, 50000.0, 52000.0, 63000.0]\n"
     ]
    }
   ],
   "source": [
    "print (salary_list)"
   ]
  },
  {
   "cell_type": "code",
   "execution_count": 17,
   "metadata": {},
   "outputs": [],
   "source": [
    "import numpy as np"
   ]
  },
  {
   "cell_type": "code",
   "execution_count": 18,
   "metadata": {},
   "outputs": [
    {
     "name": "stdout",
     "output_type": "stream",
     "text": [
      "the mean minimal salary is 68824.0\n"
     ]
    }
   ],
   "source": [
    "print(\"the mean minimal salary is {}\".format(np.mean(salary_list)))"
   ]
  },
  {
   "cell_type": "markdown",
   "metadata": {},
   "source": [
    "The average minimum salary for the jobs selected 68,824 dollars. The highest salary of the jobs listed was 110,000 dollars, and the lowest salary of the jobs listed was 45,000 dollars."
   ]
  },
  {
   "cell_type": "markdown",
   "metadata": {},
   "source": [
    "## 2.6 What is the average minimal years of experience?"
   ]
  },
  {
   "cell_type": "code",
   "execution_count": 8,
   "metadata": {},
   "outputs": [
    {
     "name": "stdout",
     "output_type": "stream",
     "text": [
      "[4.0, 7.0, 2.0, 2.0, 4.0, 2.0, 5.0, 8.0, 5.0, 10.0, 4.0, 10.0, 5.0, 2.0, 1.0, 2.0, 5.0, 2.0, 3.0, 10.0]\n"
     ]
    }
   ],
   "source": [
    "print (experience_list)"
   ]
  },
  {
   "cell_type": "code",
   "execution_count": null,
   "metadata": {},
   "outputs": [],
   "source": [
    "import numpy as np"
   ]
  },
  {
   "cell_type": "code",
   "execution_count": 19,
   "metadata": {},
   "outputs": [
    {
     "name": "stdout",
     "output_type": "stream",
     "text": [
      "the mean minimal years experience is 4.65\n"
     ]
    }
   ],
   "source": [
    "print(\"the mean minimal years experience is {}\".format(np.mean(experience_list)))"
   ]
  },
  {
   "cell_type": "markdown",
   "metadata": {},
   "source": [
    "The average minimum years of experience was 4.65 years. The highest required years of experience was 10 years, and the lowest required years of experience was 1 year."
   ]
  },
  {
   "cell_type": "markdown",
   "metadata": {},
   "source": [
    "## 2.7 How are the years of experience related to the salaries?"
   ]
  },
  {
   "cell_type": "code",
   "execution_count": null,
   "metadata": {},
   "outputs": [],
   "source": [
    "import numpy as np"
   ]
  },
  {
   "cell_type": "code",
   "execution_count": 20,
   "metadata": {},
   "outputs": [],
   "source": [
    "from scipy import stats"
   ]
  },
  {
   "cell_type": "code",
   "execution_count": 21,
   "metadata": {},
   "outputs": [
    {
     "name": "stdout",
     "output_type": "stream",
     "text": [
      "the cor years experience and salary is 0.3023967144346628\n"
     ]
    }
   ],
   "source": [
    "print(\"the cor years experience and salary is {}\".format(np.corrcoef(experience_list,salary_list)[0][1]))"
   ]
  },
  {
   "cell_type": "code",
   "execution_count": 22,
   "metadata": {},
   "outputs": [
    {
     "name": "stdout",
     "output_type": "stream",
     "text": [
      "0.19501881653647837\n",
      "1925.216856351891\n",
      "59871.74161796371\n",
      "0.09144377290087898\n"
     ]
    }
   ],
   "source": [
    "result = stats.linregress(experience_list,salary_list)\n",
    "print(result.pvalue)\n",
    "print(result.slope)\n",
    "print(result.intercept)\n",
    "print(result.rvalue*result.rvalue)"
   ]
  },
  {
   "cell_type": "code",
   "execution_count": 23,
   "metadata": {},
   "outputs": [],
   "source": [
    "%matplotlib inline\n",
    "import matplotlib.pyplot as plt"
   ]
  },
  {
   "cell_type": "code",
   "execution_count": 24,
   "metadata": {},
   "outputs": [
    {
     "data": {
      "image/png": "[encoded data removed]",
      "text/plain": [
       "<Figure size 432x288 with 1 Axes>"
      ]
     },
     "metadata": {},
     "output_type": "display_data"
    }
   ],
   "source": [
    "plt.scatter(experience_list,salary_list)\n",
    "plt.show()"
   ]
  },
  {
   "cell_type": "markdown",
   "metadata": {},
   "source": [
    "The years of experience are not directly related to the salaries of the jobs listed. The correlation value is 0.30, indicating a weak positive correlation between the two actors. Additionally, the slope between years of experience and salary is 1,925 dollars (i.e. for every year increase, the salary increases by 1,925 dollars). The p-value is .195, showing that the correlation is not statistically significant. Finally, the r-value is .09, indicating a weak correlation to the line of regression and further proving the salaries are not significantly correlated."
   ]
  },
  {
   "cell_type": "markdown",
   "metadata": {},
   "source": [
    "## 2.8 What are the common job duties?"
   ]
  },
  {
   "cell_type": "code",
   "execution_count": 10,
   "metadata": {},
   "outputs": [
    {
     "name": "stdout",
     "output_type": "stream",
     "text": [
      "['Support policymakers by producing and delivering written and oral assessments of the domestic politics, foreign policy, stability, and social issues of foreign governments and entities', 'Support cyber analysis for the Navy Shipboard Gun Weapon System GWS, Conduct all document preparation for the six step RMF process', 'Use Data to drive good business decisions and maximize revenue opportunities, Use web analytics tools to gather data, analyze it, and develop actionable insights and recommendations', 'Develop and deliver client products, such as communications documentation, artifacts,analyses, and recommendations, Integrate risk analysis information with broader business case development efforts', 'To provide actionable business intelligence in consultation with management and business units for use in daily and strategic decision making. Apply industry best practices and standards to create optimum solutions that improve business performance, Conduct analytical studies to provide results/recommendations to senior management for department and enterprise-wide strategic initiatives', 'Serve as an Intelligence Research Specialist in the Office of Intelligence and Analysis (OIA)', 'Provide business systems analysis services support for the Office of the Chief Financial Officer (CFO), Assess systems and improve business domain processes for the CFO Resources Center business model and its integration with modernized technologies', 'Determine the credibility, value, significance, and relevancy of information from various data sources to create clear, concise, analytical products to meet customer requests in a timely manner, Present findings to leadership and senior executives in attendance of internal/external meetings with the ability to explain complex information', 'Serves as technical team leader in the development of business intelligence solutions and other reports and analysis across all divisions of the organization, Writes complex SQL scripts to extract data from various databases and systems to make data available for enterprise reporting', 'Directly supporting the Deputy Commandant for Programs & Resources, Headquarters United States Marine Corps, analyzing aggregated data; providing visualizations of data sets to enable key-stakeholder decision making; and developing key assessment reports of client processes and frameworks', 'Manage projects from concept through planning, design, testing, and implementation phases, Identify and assess business strategies and opportunities; develop analytical approaches', 'Develop strong relationships and partner with business and IT stakeholders at all levels of the organization to transform how Deltek uses data and analytics to achieve our goals, Educate and influence senior executives, peers and team members on needed improvements (build the case for change) and describe how we can achieve them', 'Intelligence Researchers will be responsible for the research, analysis and dissemination will require using Bank Secrecy Act filings, supporting documentation, open sources, and other Government-provided data sources, including, but not limited to, law enforcement information, commercial databases, and classified systems', 'Assists with providing detection, identification, and reporting of possible cyber-attacks/intrusions, anomalous activities, and misuse activities, Assists with performing security event and incident correlation using information gathered from a variety of sources within the enterprise', 'Conduct independent, detailed research and analysis on client and corporate-driven initiatives and develop professional-level written products, Evaluate new technologies that could improve our products and better address customer needs, and use insights to develop new capabilities', 'Constant monitoring of multiple channels of classified and open source media for US-related threats on a worldwide basis, Drafting situation reports, preparation and presentation of briefing materials', 'To provide services are in the following areas: Executive Level Support, Special Studies, Strategic Planning and Analyses, High-level Briefings, Analytical Support, Operational and Technical Assessment Support, Programmatic Analysis Support, Data Collection, Process Research, Requirements/Capability Development & Analysis, Database Management, Planning, Policy Development, Oversight, Governance, and Assessment', 'Participate in all steps of the intelligence cycle: Planning and directing, collecting information, processing and collating information, analyzing, producing and disseminating intelligence to help attain the mission of the W/B HIDTA', 'Provide all facets of program security management in support of SAP initiatives to include; OPSEC, personnel, physical, information, industrial, and direct warfighter support, Provide SAP security administration and management to program elements. Conduct security oversight inspections. Ensure facility compliance with all policies and directives', 'Perform general AO duties such as working Task Management Tool (TMT) tasks, preparing and/or reviewing Bullet Background Papers (BBPs), answering Senior Leader & Congressional inquiries; facilitating external personnel visits to the Pentagon; coordinate VTCs/telecons/meetings for both internal & external discussions']\n"
     ]
    }
   ],
   "source": [
    "print (duty_list)"
   ]
  },
  {
   "cell_type": "code",
   "execution_count": 25,
   "metadata": {},
   "outputs": [
    {
     "name": "stdout",
     "output_type": "stream",
     "text": [
      "business 11\n",
      "analysis 8\n",
      "data 8\n",
      "intelligence 7\n",
      "develop 6\n",
      "provide 6\n",
      "management 5\n",
      "support, 5\n",
      "support 4\n",
      "information, 4\n",
      "analytical 4\n",
      "conduct 4\n",
      "use 4\n",
      "information 4\n",
      "senior 4\n",
      "security 4\n",
      "& 4\n",
      "systems 4\n",
      "client 3\n",
      "initiatives 3\n"
     ]
    }
   ],
   "source": [
    "from collections import Counter\n",
    "from nltk.corpus import stopwords\n",
    "stop = set(stopwords.words('english'))\n",
    "\n",
    "word_list = []\n",
    "for x in duty_list:\n",
    "    words = [i for i in x.lower().split() if i not in stop]\n",
    "    for i in words:\n",
    "        word_list.append(i)\n",
    "\n",
    "count_result= Counter(word_list)\n",
    "    \n",
    "for word, count in count_result.most_common(20):\n",
    "    print(word,count)"
   ]
  },
  {
   "cell_type": "markdown",
   "metadata": {},
   "source": [
    "Used stopwords to clean up the text "
   ]
  },
  {
   "cell_type": "code",
   "execution_count": null,
   "metadata": {},
   "outputs": [],
   "source": [
    "book = xlrd.open_workbook('jobs.xlsx')\n",
    "book = xlwt.Workbook()\n",
    "sheet = book.add_sheet('duty_count')\n",
    "i = 0\n",
    "sheet.write(0,0,'duty')\n",
    "sheet.write(0,1,'count')\n",
    "\n",
    "count_result = Counter(word_list)\n",
    "    \n",
    "for word, count in count_result.most_common(20):\n",
    "    i = i+1\n",
    "    if i> 0:\n",
    "        sheet.write(i,0,word)\n",
    "        sheet.write(i,1,count)\n",
    "        \n",
    "        \n",
    "book.save('duty_word_count.xls')"
   ]
  },
  {
   "cell_type": "markdown",
   "metadata": {},
   "source": [
    "<img src = 'Sheet1.png'>"
   ]
  },
  {
   "cell_type": "markdown",
   "metadata": {},
   "source": [
    "Providing analysis of business related data is the most common duty. Because stopwords were used to clean up the data for a more presentable word cloud, the word “business” is the most common word used with eleven entries. From here, we can conclude the most common duty was to provide an analysis of business related data. The second most common job duty was “analysis” (i.e. providing sufficient analysis), and the third most common duty was “data” (i.e. inputting and analyzing data)."
   ]
  },
  {
   "cell_type": "markdown",
   "metadata": {},
   "source": [
    "## 2.9 What are the common skills?"
   ]
  },
  {
   "cell_type": "code",
   "execution_count": 11,
   "metadata": {},
   "outputs": [
    {
     "name": "stdout",
     "output_type": "stream",
     "text": [
      "['Deep regional or functional expertise including travel or residency in the region, Can obtain security clearance', 'CISSP, CASP, Can obtain security clearance', 'Experience using web analytics tools such as Adobe Analytics, mpulse, and Google Ad Manager, Strong Excel skills (comfortable with using pivot tables, index match, Vlookups, etc.), Experience with a tag manager (Tealium), Can obtain security clearance', 'Experience with MS Office, MS Visio, MS Project (user), MS SharePoint, and MS Outlook, thorough understanding of risk management and business case analysis methodologies, Can obtain security clearance', 'Extensive experience in the application of statistical methods, mathematical techniques, forecasting, cost-benefit analysis and related analytical tools, Expert skill interpreting, extrapolating and interpolating data for statistical research and modeling, Extensive experience in problem resolution including determining root cause, scope and scale of issues, Can obtain security clearance', 'Composing and briefing all-source intelligence or other analytical assessments on cyber threat topics, Creating finished intelligence or other intelligence-based analytical assessments and delivering briefings on cyber threat topics, Can obtain security clearance', 'Modernize and migrate DIA programs through change management to implement improved business systems, processes, best practices, and lessons learned from other agencies in the performance of similar efforts, Perform research, analysis and compliance findings of business systems and processes with audit requirements, Can obtain security clearance', 'Excellent writing, verbal, and communication skills, Knowledge of the dynamics of military and regime leadership, national military strategy, terrorism, strategic doctrine, regional relations, internal and regional stability and security, Can obtain security clearance', 'Evaluate, test and implement new or upgraded software bull Troubleshoot reported problems pertaining to reports and the reporting database environment, working closely with other IT members, especially DBAs, bull Systems Analysts and Systems Engineers, identifying the cause and designing or developing an approach for resolution, Can obtain security clearance', 'Ability to work independently in a fast paced, high visibility program office while balancing multiple workstreams, Experience with BI tools such as Excel, Tableau, or MS Power BI, Experience employing Business Process Model Narratives/Notation (BPMN) to define business processes and associated information and data flows, Can obtain security clearance', 'Advanced Degree in a quantitative and/or business field, or the equivalent combination of training, education and experience, Expert digital analytics skills, especially utilizing Adobe Analytics - Adobe Target & Adobe Launch a plus, Can obtain security clearance', 'Demonstrated expertise in business intelligence solutions and data warehousing, and a passion for delivering solutions that enable us to harness the value of data, Experience with a wide variety of BI technologies (e.g., Qlik, Cognos, MS SQL server, MS SSIS), Can obtain security clearance', 'Experience with data retrieval strategies and mining. Experience with collecting, analyzing, and interpreting qualitative and quantitative data from multiple sources, Ability to write high-quality intelligence products (that would be typical of the intelligence community) and briefings for a senior-level audience. Ability to concisely write about technical topics for non-technical audiences, Can obtain security clearance', 'Experience working in a Cybersecurity Operations Center environment desired, Experience with COTS technologies used in a Cybersecurity Operations Center environment desired, Can obtain security clearance', 'Excellent research, writing and analytical skills; writing sample is required, Ability to develop research ideas into viable proofs of concept or into reports and briefings with practical takeaways for clients, Can obtain security clearance', 'Experience in operational or analytic in intelligence community, military, or law enforcement fields and a Bachelor’s degree in a related field is desired, Candidates must have familiarity with a variety of intelligence community databases, networks, and environments, Can obtain security clearance', 'Experience in capability definition and operation of IT, space systems, Command, Control, Communications, Computers, Intelligence, Surveillance, and Reconnaissance (C4ISR) systems and/or unmanned systems, Proficiency with Microsoft products including Project, Word, PowerPoint, and Excel, Can obtain security clearance', 'Ability to research a voluminous amount of data in order to find information on individuals utilizing very little previous information on the subject, Ability to learn complex software and databases, Can obtain security clearance', 'Capable of developing and implementing a specific security task area or specialty in support of a Special Access Program (SAP), Ability and willingness to travel to support customer activities is mandatory, Can obtain security clearance', 'SME-level experience with USAF ISR enterprise capabilities and issues, Background in capability development to include machine learning/artificial intelligence and operational data areas (standards, object based production, DevOps, etc.), Can obtain security clearance']\n"
     ]
    }
   ],
   "source": [
    "print (skills_list)"
   ]
  },
  {
   "cell_type": "code",
   "execution_count": 26,
   "metadata": {},
   "outputs": [
    {
     "name": "stdout",
     "output_type": "stream",
     "text": [
      "security 21\n",
      "obtain 20\n",
      "clearance 20\n",
      "experience 15\n",
      "intelligence 8\n",
      "ms 8\n",
      "ability 7\n",
      "data 7\n",
      "business 7\n",
      "analytical 4\n",
      "adobe 4\n",
      "systems 4\n",
      "regional 3\n",
      "including 3\n",
      "briefings 3\n",
      "research 3\n",
      "information 3\n",
      "analytics 3\n",
      "desired, 3\n",
      "systems, 3\n"
     ]
    }
   ],
   "source": [
    "from collections import Counter\n",
    "from nltk.corpus import stopwords\n",
    "stop = set(stopwords.words('english'))\n",
    "\n",
    "word_list = []\n",
    "for x in skills_list:\n",
    "    words = [i for i in x.lower().split() if i not in stop]\n",
    "    for i in words:\n",
    "        word_list.append(i)\n",
    "    \n",
    "count_result= Counter(word_list)\n",
    "    \n",
    "for word, count in count_result.most_common(20):\n",
    "    print(word,count)"
   ]
  },
  {
   "cell_type": "markdown",
   "metadata": {},
   "source": [
    "Used stopwords to clean up the text"
   ]
  },
  {
   "cell_type": "code",
   "execution_count": null,
   "metadata": {},
   "outputs": [],
   "source": [
    "book = xlrd.open_workbook('jobs.xlsx')\n",
    "book = xlwt.Workbook()\n",
    "sheet = book.add_sheet('skills_count')\n",
    "i = 0\n",
    "sheet.write(0,0,'skills')\n",
    "sheet.write(0,1,'count')\n",
    "\n",
    "count_result = Counter(word_list)\n",
    "    \n",
    "for word, count in count_result.most_common(20):\n",
    "    i = i+1\n",
    "    if i> 0:\n",
    "        sheet.write(i,0,word)\n",
    "        sheet.write(i,1,count)\n",
    "        \n",
    "        \n",
    "book.save('skills_word_count.xls')"
   ]
  },
  {
   "cell_type": "markdown",
   "metadata": {},
   "source": [
    "<img src = 'Book3.png'>"
   ]
  },
  {
   "cell_type": "markdown",
   "metadata": {},
   "source": [
    "One’s ability to obtain a security clearance is the most common skill. Because stopwords were used to clean up the data for a more presentable word cloud, the word “security” is the most common word used with twenty-one entries. The second and third most common words were “obtain” and “clearance,” allowing us to conclude the most common skill between all jobs were the ability to obtain a clearance. Additionally, the words “experience” and “intelligence” were used fifteen and eight times, respectively. This indicates required skills are prior experience within the intelligence analysis field."
   ]
  },
  {
   "cell_type": "markdown",
   "metadata": {},
   "source": [
    "## Conclusion"
   ]
  },
  {
   "cell_type": "markdown",
   "metadata": {},
   "source": [
    "In conclusion, our research found that intelligence analysis careers are varied in their job duties but narrow in their requirements. Depending on the company hiring, the prospective intelligence analyst could be working on highly technical products for their client or conducting much more broad business analytics. In contrast, the requirements for intelligence analyst jobs seemed much the same, with the requisite that the applicant must have or be able to obtain a security clearance being the most important ability. Based off of our data, years of experience and salary were not correlated, and this may be an instance of the limitations of our project. 20 jobs may not be a large enough sample size to accurately determine these correlations. Additionally, having government jobs like that of the CIA and Department of Treasury along with private sector jobs may skew results, since the salary system for public and private sectors are very different. To improve our project, we could find job postings that have every piece of data that was required of us rather than extrapolating or making up pieces of data that we needed. Overall, the project was successful in determining the required information and finding the similarities and differences between job posts."
   ]
  }
 ],
 "metadata": {
  "kernelspec": {
   "display_name": "Python 3",
   "language": "python",
   "name": "python3"
  },
  "language_info": {
   "codemirror_mode": {
    "name": "ipython",
    "version": 3
   },
   "file_extension": ".py",
   "mimetype": "text/x-python",
   "name": "python",
   "nbconvert_exporter": "python",
   "pygments_lexer": "ipython3",
   "version": "3.6.5"
  }
 },
 "nbformat": 4,
 "nbformat_minor": 2
}
