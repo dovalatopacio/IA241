{
 "cells": [
  {
   "cell_type": "markdown",
   "metadata": {},
   "source": [
    "# Lab 6"
   ]
  },
  {
   "cell_type": "code",
   "execution_count": 1,
   "metadata": {},
   "outputs": [],
   "source": [
    "from urllib import request\n",
    "\n",
    "import json\n",
    "\n",
    "from pprint import pprint\n",
    "import xlwt"
   ]
  },
  {
   "cell_type": "code",
   "execution_count": 2,
   "metadata": {},
   "outputs": [],
   "source": [
    "census_api_key = '977076b0a0d0f0ea430eef5e0f9530f27813063f'"
   ]
  },
  {
   "cell_type": "code",
   "execution_count": 3,
   "metadata": {},
   "outputs": [
    {
     "name": "stdout",
     "output_type": "stream",
     "text": [
      "https://api.census.gov/data/2016/acs/acs5?get=B01001_001E,B01001_002E,NAME&for=county:*&in=state:51&key=977076b0a0d0f0ea430eef5e0f9530f27813063f\n"
     ]
    }
   ],
   "source": [
    "url_str = 'https://api.census.gov/data/2016/acs/acs5?get=B01001_001E,B01001_002E,NAME&for=county:*&in=state:51&key='+census_api_key\n",
    "print(url_str)"
   ]
  },
  {
   "cell_type": "code",
   "execution_count": 4,
   "metadata": {},
   "outputs": [],
   "source": [
    "response = request.urlopen(url_str) # read the response into computer\n",
    "html_str = response.read().decode(\"utf-8\") # convert the response into string"
   ]
  },
  {
   "cell_type": "markdown",
   "metadata": {},
   "source": [
    "## Q1"
   ]
  },
  {
   "cell_type": "code",
   "execution_count": 5,
   "metadata": {},
   "outputs": [],
   "source": [
    "import xlrd"
   ]
  },
  {
   "cell_type": "code",
   "execution_count": 6,
   "metadata": {},
   "outputs": [],
   "source": [
    "import xlwt"
   ]
  },
  {
   "cell_type": "code",
   "execution_count": 7,
   "metadata": {},
   "outputs": [],
   "source": [
    "from xlutils.copy import copy"
   ]
  },
  {
   "cell_type": "markdown",
   "metadata": {},
   "source": [
    "## Q2"
   ]
  },
  {
   "cell_type": "code",
   "execution_count": 8,
   "metadata": {},
   "outputs": [],
   "source": [
    "census_api_key = '977076b0a0d0f0ea430eef5e0f9530f27813063f'"
   ]
  },
  {
   "cell_type": "markdown",
   "metadata": {},
   "source": [
    "## Q3"
   ]
  },
  {
   "cell_type": "code",
   "execution_count": 9,
   "metadata": {},
   "outputs": [],
   "source": [
    "book = xlwt.Workbook()\n",
    "\n",
    "sheet = book.add_sheet('va_pop')\n",
    "i=0\n",
    "if html_str:\n",
    "    json_data = json.loads(html_str)\n",
    "    for record in json_data:\n",
    "        total_pop,male_pop,name,state,count_num = record\n",
    "        sheet.write(i,0,total_pop)\n",
    "        sheet.write(i,1,male_pop)\n",
    "        i +=1\n",
    "book.save('census.xls')"
   ]
  },
  {
   "cell_type": "markdown",
   "metadata": {},
   "source": [
    "## Q4"
   ]
  },
  {
   "cell_type": "code",
   "execution_count": 10,
   "metadata": {},
   "outputs": [
    {
     "name": "stdout",
     "output_type": "stream",
     "text": [
      "134\n"
     ]
    }
   ],
   "source": [
    "book = xlrd.open_workbook('census.xls')\n",
    "sheet = book.sheet_by_name('va_pop')\n",
    "print (sheet.nrows)"
   ]
  },
  {
   "cell_type": "code",
   "execution_count": 11,
   "metadata": {},
   "outputs": [
    {
     "name": "stdout",
     "output_type": "stream",
     "text": [
      "33060 16125\n",
      "104287 49946\n",
      "15919 7788\n",
      "12793 6642\n",
      "31999 15346\n",
      "15314 7424\n",
      "226092 112644\n",
      "74330 37572\n",
      "4558 2465\n",
      "76933 37888\n"
     ]
    }
   ],
   "source": [
    "for i in range(1,11):\n",
    "    row = sheet.row_values(i)\n",
    "    total,male =row\n",
    "    print (total,male)"
   ]
  },
  {
   "cell_type": "markdown",
   "metadata": {},
   "source": [
    "## Q5"
   ]
  },
  {
   "cell_type": "code",
   "execution_count": 12,
   "metadata": {},
   "outputs": [],
   "source": [
    "read_book = xlrd.open_workbook('census.xls')\n",
    "write_book = copy(read_book)\n",
    "\n",
    "write_sheet = write_book.get_sheet(0)\n",
    "\n",
    "num_rows = sheet.nrows\n",
    "\n",
    "for i in range(num_rows):\n",
    "    row = sheet.row_values(i)\n",
    "    total,male =row\n",
    "    if i ==0:\n",
    "        write_sheet.write(i,2,'ratio')\n",
    "    else:\n",
    "        write_sheet.write(i,2,int(male)/int(total))\n",
    "\n",
    "write_book.save('census.xls')"
   ]
  },
  {
   "cell_type": "markdown",
   "metadata": {},
   "source": [
    "## Q6"
   ]
  },
  {
   "cell_type": "code",
   "execution_count": 13,
   "metadata": {},
   "outputs": [
    {
     "name": "stdout",
     "output_type": "stream",
     "text": [
      "134\n"
     ]
    }
   ],
   "source": [
    "book = xlrd.open_workbook('census.xls')\n",
    "sheet = book.sheet_by_name('va_pop')\n",
    "print (sheet.nrows)"
   ]
  },
  {
   "cell_type": "code",
   "execution_count": 14,
   "metadata": {},
   "outputs": [
    {
     "name": "stdout",
     "output_type": "stream",
     "text": [
      "33060 16125 0.48774954627949185\n",
      "104287 49946 0.4789283419793455\n",
      "15919 7788 0.48922671022049125\n",
      "12793 6642 0.5191901821308528\n",
      "31999 15346 0.4795774867964624\n",
      "15314 7424 0.48478516390231163\n",
      "226092 112644 0.4982219627408312\n",
      "74330 37572 0.5054755818646576\n",
      "4558 2465 0.5408073716542343\n",
      "76933 37888 0.4924804700193675\n"
     ]
    }
   ],
   "source": [
    "for i in range(1,11):\n",
    "    row = sheet.row_values(i)\n",
    "    total,male,ratio =row\n",
    "    print (total,male,ratio)"
   ]
  }
 ],
 "metadata": {
  "kernelspec": {
   "display_name": "Python 3",
   "language": "python",
   "name": "python3"
  },
  "language_info": {
   "codemirror_mode": {
    "name": "ipython",
    "version": 3
   },
   "file_extension": ".py",
   "mimetype": "text/x-python",
   "name": "python",
   "nbconvert_exporter": "python",
   "pygments_lexer": "ipython3",
   "version": "3.6.5"
  }
 },
 "nbformat": 4,
 "nbformat_minor": 2
}
